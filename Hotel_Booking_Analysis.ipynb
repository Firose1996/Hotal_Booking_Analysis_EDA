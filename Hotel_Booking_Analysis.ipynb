{
  "nbformat": 4,
  "nbformat_minor": 0,
  "metadata": {
    "colab": {
      "provenance": [],
      "include_colab_link": true
    },
    "kernelspec": {
      "name": "python3",
      "display_name": "Python 3"
    },
    "language_info": {
      "name": "python"
    },
    "gpuClass": "standard"
  },
  "cells": [
    {
      "cell_type": "markdown",
      "metadata": {
        "id": "view-in-github",
        "colab_type": "text"
      },
      "source": [
        "<a href=\"https://colab.research.google.com/github/Firose1996/Hotal_Booking_Analysis_EDA/blob/main/Hotel_Booking_Analysis.ipynb\" target=\"_parent\"><img src=\"https://colab.research.google.com/assets/colab-badge.svg\" alt=\"Open In Colab\"/></a>"
      ]
    },
    {
      "cell_type": "markdown",
      "source": [
        "# **Project Name**    -  Hotel  booking Analysis\n",
        "\n",
        "\n"
      ],
      "metadata": {
        "id": "vncDsAP0Gaoa"
      }
    },
    {
      "cell_type": "markdown",
      "source": [
        "##### **Project Type**    - EDA\n",
        "##### **Contribution**    - Individual\n"
      ],
      "metadata": {
        "id": "beRrZCGUAJYm"
      }
    },
    {
      "cell_type": "markdown",
      "source": [
        "# Introduction"
      ],
      "metadata": {
        "id": "n76moqMT5AIH"
      }
    },
    {
      "cell_type": "markdown",
      "source": [
        "Many industries adopt data analytics as they realize how important it is.Hotel industry is one of those.This analysis will assist in improving revenue management.Helps in improvisation of guest service.Aids in providing additional service.scout the business competition and environment.\n",
        "\n",
        "We are given Hotel Booking dataset to analyse its general trends in hotel booking.The dataset contains booking information of city hotel and resort hotel.This data set contains information about clients hotel bookings and reservations including cancellations information. It has two types of hotels:  City Hotel and Resort Hotel\n",
        "\n",
        "Data includes details about type of hotel, number of adults and children/babies, booking information, length of stay, arrival dates, if the customer is repeated or not, cancellation details etc.\n",
        "\n",
        "Bookings data represents the bookings due to arrive between 1st of July, 2015 and 31st August, 2017, including bookings that effectively arrived and cancelled. Data source is of hotels located in Portugal.\n",
        "\n",
        "**Below are the coloums of the dataset and its explaination**:\n",
        "- hotel: Name of hotel ( H1-City or H2-Resort)\n",
        "- is_canceled: 0 for no canceled and 1 for canceled\n",
        "- lead_time: no. of days between booking and actual arrival.\n",
        "- arrival_date_year: Year for arrival date\n",
        "- arrival_date_month: month for arrival date\n",
        "- arrival_date_week_number: week number for arrival date\n",
        "- arrival_date_day_of_month: Day of month of arrival date\n",
        "- stays_in_weekend_nights: No. of weekend nights spent or booked in a hotel(sat or sun)\n",
        "- stays_in_week_nights: No. of weeknights spent in a hotel(mon to fri)\n",
        "- adults: No. of adults.\n",
        "- children: No. of children.\n",
        "- babies: No. of babies. \n",
        "- meal: Type of meal selected\n",
        "- country: Country of customers\n",
        "- market_segment: purpose and segment through booking was made (segment which coustomer belongs)\n",
        "- distribution_channel: through what medium booking was made.\n",
        "- is_repeated_guest:(0 new guest and 1 for repeated guest)\n",
        "- previous_cancellation: No. of previous canceled bookings.\n",
        "- previous_bookings: No. of previous non-canceled bookings.\n",
        "- reserved_room_type: Room type reserved by a customer.\n",
        "- assigned_room_type: Room type assigned to the customer.\n",
        "- booking_changes: count of booking changes done by customers\n",
        "- deposit_type: Type of deposit(No deposit/ Refundable/ No refund)\n",
        "- agent: Id of agent for booking\n",
        "- company: Id of the company making a booking\n",
        "- days_in_waiting_list: No. of days on waiting list.\n",
        "- customer_type: Type of customer\n",
        "- adr: Average Daily rate.\n",
        "- required_car_parking_spaces: No. of car parking\n",
        "- total_of_special_req: total no. of special request.\n",
        "- reservation_status: Whether a customer has checked out or canceled\n",
        "- reservation_status_date: Date of making reservation\n",
        "\n",
        "\n",
        "**Analytic Technique**\n",
        "\n",
        "Start with data cleaning, like removing duplicate values, identifying null values, and then imputing them or removing them as per requirement. We will also do quality assurance to convert our raw data into appropriate formats.Do all this cleaning so that any insignificant data does not produce any irrelevant result leading to wrong analysis. Our second step is going to be exploratory data analysis – summary finding outliers, correlations between variables, transforming our data analysis into data visualizations which will help us to summarize the data so we can easily spot trends, patterns, and relationships in the data set, etc.,\n",
        "\n",
        "**Customer Benifits**\n",
        "\n",
        "With our analysis we will be able to find out the busiest time for hotel bookings and revenu making. This will help the hotel industry to provide the best offers on bookings, also help in keeping the staff ready and well equipped to handle the high load so that the hotel operation runs smoothly at this time, providing the best customer experience.\n"
      ],
      "metadata": {
        "id": "F6v_1wHtG2nS"
      }
    },
    {
      "cell_type": "markdown",
      "source": [
        "# **GitHub Link -**"
      ],
      "metadata": {
        "id": "w6K7xa23Elo4"
      }
    },
    {
      "cell_type": "markdown",
      "source": [],
      "metadata": {
        "id": "tNHf4OSnNq1U"
      }
    },
    {
      "cell_type": "markdown",
      "source": [
        "# **Problem Statement**\n",
        "\n"
      ],
      "metadata": {
        "id": "yQaldy8SH6Dl"
      }
    },
    {
      "cell_type": "markdown",
      "source": [
        "1.Count of both the hotel\n",
        "\n",
        "\n",
        "2.Hotel having maximum night stay by guest(both weekend and week days)\n",
        "\n",
        "\n",
        "3.calculate revenue for all bookings\n",
        "\n",
        "\n",
        "4.what is the total booking of the hotel?\n",
        "\n",
        "\n",
        "5.How much do guests pay for a room per night?\n",
        "\n",
        "\n",
        "6.The cancellation trends\n",
        "\n",
        "\n",
        "7.Monthly arrival of guest\n",
        "\n",
        "\n",
        "8.Revenue of city hotel by month\n",
        "\n",
        "\n",
        "9.Revenue of resort hotel by month\n",
        "\n",
        "\n",
        "10.Yearly arrival of both the resort\n",
        "\n",
        "\n",
        "11.Which country is highest among all?\n",
        "\n",
        "\n",
        "12.The most preferred meal type\n",
        "\n",
        "\n",
        "13.To find the most preferred Room type \n",
        "\n",
        "\n",
        "14.Repeated guest in each hotel\n",
        "\n",
        "\n",
        "15.Which type of customer is high?\n",
        "\n",
        "\n",
        "16.Transient customer are more in both the hotel\n",
        "\n",
        "\n",
        "17.Deposits of hotels\n"
      ],
      "metadata": {
        "id": "DpeJGUA3kjGy"
      }
    },
    {
      "cell_type": "markdown",
      "source": [
        "#### **Define Your Business Objective?**"
      ],
      "metadata": {
        "id": "PH-0ReGfmX4f"
      }
    },
    {
      "cell_type": "markdown",
      "source": [
        "\n",
        "\n",
        "\n",
        "The main objective of the project is to  analyze the factors that affect such as hotel booking and cancellation, as well as guest retention, that will ultimately be used to boost hotel revenue. To acheive these owners would get to know expectation in terms of accomodation of the customer,Price-value ratio for their guests and how to become better than other in terms of services and experience.\n",
        "\n"
      ],
      "metadata": {
        "id": "PhDvGCAqmjP1"
      }
    },
    {
      "cell_type": "markdown",
      "source": [
        "## ***Data Preparation***"
      ],
      "metadata": {
        "id": "HhfV-JJviCcP"
      }
    },
    {
      "cell_type": "markdown",
      "source": [
        "### Packages Required"
      ],
      "metadata": {
        "id": "Y3lxredqlCYt"
      }
    },
    {
      "cell_type": "code",
      "source": [
        "# Importing required import python libraries\n",
        "import numpy as np\n",
        "import pandas as pd\n",
        "from matplotlib import pyplot as plt\n",
        "%matplotlib inline\n",
        "import seaborn as sns\n"
      ],
      "metadata": {
        "id": "M8Vqi-pPk-HR"
      },
      "execution_count": 60,
      "outputs": []
    },
    {
      "cell_type": "markdown",
      "source": [
        "### Dataset Loading"
      ],
      "metadata": {
        "id": "3RnN4peoiCZX"
      }
    },
    {
      "cell_type": "code",
      "source": [
        "# Load Dataset\n",
        "from google.colab import drive                    # Mounting drive\n",
        "drive.mount('/content/drive')"
      ],
      "metadata": {
        "id": "4CkvbW_SlZ_R",
        "colab": {
          "base_uri": "https://localhost:8080/"
        },
        "outputId": "385840e6-2592-443d-eee6-8ee069c8d14d"
      },
      "execution_count": 61,
      "outputs": [
        {
          "output_type": "stream",
          "name": "stdout",
          "text": [
            "Drive already mounted at /content/drive; to attempt to forcibly remount, call drive.mount(\"/content/drive\", force_remount=True).\n"
          ]
        }
      ]
    },
    {
      "cell_type": "code",
      "source": [
        "# Reading the file\n",
        "df = pd.read_csv(\"/content/drive/MyDrive/AlmaBetter/Capstone Project 1/Hotel Bookings.csv\")"
      ],
      "metadata": {
        "id": "SoxhoBt5lgFE"
      },
      "execution_count": 62,
      "outputs": []
    },
    {
      "cell_type": "markdown",
      "source": [
        "### 1. Understanding the dataset"
      ],
      "metadata": {
        "id": "x71ZqKXriCWQ"
      }
    },
    {
      "cell_type": "code",
      "source": [
        "# Dataset First Look\n",
        "df.head()"
      ],
      "metadata": {
        "id": "LWNFOSvLl09H",
        "colab": {
          "base_uri": "https://localhost:8080/",
          "height": 386
        },
        "outputId": "350828d8-bd74-41cd-ba83-d51ccbc5eb1a"
      },
      "execution_count": 63,
      "outputs": [
        {
          "output_type": "execute_result",
          "data": {
            "text/plain": [
              "          hotel  is_canceled  lead_time  arrival_date_year arrival_date_month  \\\n",
              "0  Resort Hotel            0        342               2015               July   \n",
              "1  Resort Hotel            0        737               2015               July   \n",
              "2  Resort Hotel            0          7               2015               July   \n",
              "3  Resort Hotel            0         13               2015               July   \n",
              "4  Resort Hotel            0         14               2015               July   \n",
              "\n",
              "   arrival_date_week_number  arrival_date_day_of_month  \\\n",
              "0                        27                          1   \n",
              "1                        27                          1   \n",
              "2                        27                          1   \n",
              "3                        27                          1   \n",
              "4                        27                          1   \n",
              "\n",
              "   stays_in_weekend_nights  stays_in_week_nights  adults  ...  deposit_type  \\\n",
              "0                        0                     0       2  ...    No Deposit   \n",
              "1                        0                     0       2  ...    No Deposit   \n",
              "2                        0                     1       1  ...    No Deposit   \n",
              "3                        0                     1       1  ...    No Deposit   \n",
              "4                        0                     2       2  ...    No Deposit   \n",
              "\n",
              "   agent company days_in_waiting_list customer_type   adr  \\\n",
              "0    NaN     NaN                    0     Transient   0.0   \n",
              "1    NaN     NaN                    0     Transient   0.0   \n",
              "2    NaN     NaN                    0     Transient  75.0   \n",
              "3  304.0     NaN                    0     Transient  75.0   \n",
              "4  240.0     NaN                    0     Transient  98.0   \n",
              "\n",
              "   required_car_parking_spaces  total_of_special_requests  reservation_status  \\\n",
              "0                            0                          0           Check-Out   \n",
              "1                            0                          0           Check-Out   \n",
              "2                            0                          0           Check-Out   \n",
              "3                            0                          0           Check-Out   \n",
              "4                            0                          1           Check-Out   \n",
              "\n",
              "  reservation_status_date  \n",
              "0              2015-07-01  \n",
              "1              2015-07-01  \n",
              "2              2015-07-02  \n",
              "3              2015-07-02  \n",
              "4              2015-07-03  \n",
              "\n",
              "[5 rows x 32 columns]"
            ],
            "text/html": [
              "\n",
              "  <div id=\"df-9e7515f5-de70-48ad-bec0-c94e4c324461\">\n",
              "    <div class=\"colab-df-container\">\n",
              "      <div>\n",
              "<style scoped>\n",
              "    .dataframe tbody tr th:only-of-type {\n",
              "        vertical-align: middle;\n",
              "    }\n",
              "\n",
              "    .dataframe tbody tr th {\n",
              "        vertical-align: top;\n",
              "    }\n",
              "\n",
              "    .dataframe thead th {\n",
              "        text-align: right;\n",
              "    }\n",
              "</style>\n",
              "<table border=\"1\" class=\"dataframe\">\n",
              "  <thead>\n",
              "    <tr style=\"text-align: right;\">\n",
              "      <th></th>\n",
              "      <th>hotel</th>\n",
              "      <th>is_canceled</th>\n",
              "      <th>lead_time</th>\n",
              "      <th>arrival_date_year</th>\n",
              "      <th>arrival_date_month</th>\n",
              "      <th>arrival_date_week_number</th>\n",
              "      <th>arrival_date_day_of_month</th>\n",
              "      <th>stays_in_weekend_nights</th>\n",
              "      <th>stays_in_week_nights</th>\n",
              "      <th>adults</th>\n",
              "      <th>...</th>\n",
              "      <th>deposit_type</th>\n",
              "      <th>agent</th>\n",
              "      <th>company</th>\n",
              "      <th>days_in_waiting_list</th>\n",
              "      <th>customer_type</th>\n",
              "      <th>adr</th>\n",
              "      <th>required_car_parking_spaces</th>\n",
              "      <th>total_of_special_requests</th>\n",
              "      <th>reservation_status</th>\n",
              "      <th>reservation_status_date</th>\n",
              "    </tr>\n",
              "  </thead>\n",
              "  <tbody>\n",
              "    <tr>\n",
              "      <th>0</th>\n",
              "      <td>Resort Hotel</td>\n",
              "      <td>0</td>\n",
              "      <td>342</td>\n",
              "      <td>2015</td>\n",
              "      <td>July</td>\n",
              "      <td>27</td>\n",
              "      <td>1</td>\n",
              "      <td>0</td>\n",
              "      <td>0</td>\n",
              "      <td>2</td>\n",
              "      <td>...</td>\n",
              "      <td>No Deposit</td>\n",
              "      <td>NaN</td>\n",
              "      <td>NaN</td>\n",
              "      <td>0</td>\n",
              "      <td>Transient</td>\n",
              "      <td>0.0</td>\n",
              "      <td>0</td>\n",
              "      <td>0</td>\n",
              "      <td>Check-Out</td>\n",
              "      <td>2015-07-01</td>\n",
              "    </tr>\n",
              "    <tr>\n",
              "      <th>1</th>\n",
              "      <td>Resort Hotel</td>\n",
              "      <td>0</td>\n",
              "      <td>737</td>\n",
              "      <td>2015</td>\n",
              "      <td>July</td>\n",
              "      <td>27</td>\n",
              "      <td>1</td>\n",
              "      <td>0</td>\n",
              "      <td>0</td>\n",
              "      <td>2</td>\n",
              "      <td>...</td>\n",
              "      <td>No Deposit</td>\n",
              "      <td>NaN</td>\n",
              "      <td>NaN</td>\n",
              "      <td>0</td>\n",
              "      <td>Transient</td>\n",
              "      <td>0.0</td>\n",
              "      <td>0</td>\n",
              "      <td>0</td>\n",
              "      <td>Check-Out</td>\n",
              "      <td>2015-07-01</td>\n",
              "    </tr>\n",
              "    <tr>\n",
              "      <th>2</th>\n",
              "      <td>Resort Hotel</td>\n",
              "      <td>0</td>\n",
              "      <td>7</td>\n",
              "      <td>2015</td>\n",
              "      <td>July</td>\n",
              "      <td>27</td>\n",
              "      <td>1</td>\n",
              "      <td>0</td>\n",
              "      <td>1</td>\n",
              "      <td>1</td>\n",
              "      <td>...</td>\n",
              "      <td>No Deposit</td>\n",
              "      <td>NaN</td>\n",
              "      <td>NaN</td>\n",
              "      <td>0</td>\n",
              "      <td>Transient</td>\n",
              "      <td>75.0</td>\n",
              "      <td>0</td>\n",
              "      <td>0</td>\n",
              "      <td>Check-Out</td>\n",
              "      <td>2015-07-02</td>\n",
              "    </tr>\n",
              "    <tr>\n",
              "      <th>3</th>\n",
              "      <td>Resort Hotel</td>\n",
              "      <td>0</td>\n",
              "      <td>13</td>\n",
              "      <td>2015</td>\n",
              "      <td>July</td>\n",
              "      <td>27</td>\n",
              "      <td>1</td>\n",
              "      <td>0</td>\n",
              "      <td>1</td>\n",
              "      <td>1</td>\n",
              "      <td>...</td>\n",
              "      <td>No Deposit</td>\n",
              "      <td>304.0</td>\n",
              "      <td>NaN</td>\n",
              "      <td>0</td>\n",
              "      <td>Transient</td>\n",
              "      <td>75.0</td>\n",
              "      <td>0</td>\n",
              "      <td>0</td>\n",
              "      <td>Check-Out</td>\n",
              "      <td>2015-07-02</td>\n",
              "    </tr>\n",
              "    <tr>\n",
              "      <th>4</th>\n",
              "      <td>Resort Hotel</td>\n",
              "      <td>0</td>\n",
              "      <td>14</td>\n",
              "      <td>2015</td>\n",
              "      <td>July</td>\n",
              "      <td>27</td>\n",
              "      <td>1</td>\n",
              "      <td>0</td>\n",
              "      <td>2</td>\n",
              "      <td>2</td>\n",
              "      <td>...</td>\n",
              "      <td>No Deposit</td>\n",
              "      <td>240.0</td>\n",
              "      <td>NaN</td>\n",
              "      <td>0</td>\n",
              "      <td>Transient</td>\n",
              "      <td>98.0</td>\n",
              "      <td>0</td>\n",
              "      <td>1</td>\n",
              "      <td>Check-Out</td>\n",
              "      <td>2015-07-03</td>\n",
              "    </tr>\n",
              "  </tbody>\n",
              "</table>\n",
              "<p>5 rows × 32 columns</p>\n",
              "</div>\n",
              "      <button class=\"colab-df-convert\" onclick=\"convertToInteractive('df-9e7515f5-de70-48ad-bec0-c94e4c324461')\"\n",
              "              title=\"Convert this dataframe to an interactive table.\"\n",
              "              style=\"display:none;\">\n",
              "        \n",
              "  <svg xmlns=\"http://www.w3.org/2000/svg\" height=\"24px\"viewBox=\"0 0 24 24\"\n",
              "       width=\"24px\">\n",
              "    <path d=\"M0 0h24v24H0V0z\" fill=\"none\"/>\n",
              "    <path d=\"M18.56 5.44l.94 2.06.94-2.06 2.06-.94-2.06-.94-.94-2.06-.94 2.06-2.06.94zm-11 1L8.5 8.5l.94-2.06 2.06-.94-2.06-.94L8.5 2.5l-.94 2.06-2.06.94zm10 10l.94 2.06.94-2.06 2.06-.94-2.06-.94-.94-2.06-.94 2.06-2.06.94z\"/><path d=\"M17.41 7.96l-1.37-1.37c-.4-.4-.92-.59-1.43-.59-.52 0-1.04.2-1.43.59L10.3 9.45l-7.72 7.72c-.78.78-.78 2.05 0 2.83L4 21.41c.39.39.9.59 1.41.59.51 0 1.02-.2 1.41-.59l7.78-7.78 2.81-2.81c.8-.78.8-2.07 0-2.86zM5.41 20L4 18.59l7.72-7.72 1.47 1.35L5.41 20z\"/>\n",
              "  </svg>\n",
              "      </button>\n",
              "      \n",
              "  <style>\n",
              "    .colab-df-container {\n",
              "      display:flex;\n",
              "      flex-wrap:wrap;\n",
              "      gap: 12px;\n",
              "    }\n",
              "\n",
              "    .colab-df-convert {\n",
              "      background-color: #E8F0FE;\n",
              "      border: none;\n",
              "      border-radius: 50%;\n",
              "      cursor: pointer;\n",
              "      display: none;\n",
              "      fill: #1967D2;\n",
              "      height: 32px;\n",
              "      padding: 0 0 0 0;\n",
              "      width: 32px;\n",
              "    }\n",
              "\n",
              "    .colab-df-convert:hover {\n",
              "      background-color: #E2EBFA;\n",
              "      box-shadow: 0px 1px 2px rgba(60, 64, 67, 0.3), 0px 1px 3px 1px rgba(60, 64, 67, 0.15);\n",
              "      fill: #174EA6;\n",
              "    }\n",
              "\n",
              "    [theme=dark] .colab-df-convert {\n",
              "      background-color: #3B4455;\n",
              "      fill: #D2E3FC;\n",
              "    }\n",
              "\n",
              "    [theme=dark] .colab-df-convert:hover {\n",
              "      background-color: #434B5C;\n",
              "      box-shadow: 0px 1px 3px 1px rgba(0, 0, 0, 0.15);\n",
              "      filter: drop-shadow(0px 1px 2px rgba(0, 0, 0, 0.3));\n",
              "      fill: #FFFFFF;\n",
              "    }\n",
              "  </style>\n",
              "\n",
              "      <script>\n",
              "        const buttonEl =\n",
              "          document.querySelector('#df-9e7515f5-de70-48ad-bec0-c94e4c324461 button.colab-df-convert');\n",
              "        buttonEl.style.display =\n",
              "          google.colab.kernel.accessAllowed ? 'block' : 'none';\n",
              "\n",
              "        async function convertToInteractive(key) {\n",
              "          const element = document.querySelector('#df-9e7515f5-de70-48ad-bec0-c94e4c324461');\n",
              "          const dataTable =\n",
              "            await google.colab.kernel.invokeFunction('convertToInteractive',\n",
              "                                                     [key], {});\n",
              "          if (!dataTable) return;\n",
              "\n",
              "          const docLinkHtml = 'Like what you see? Visit the ' +\n",
              "            '<a target=\"_blank\" href=https://colab.research.google.com/notebooks/data_table.ipynb>data table notebook</a>'\n",
              "            + ' to learn more about interactive tables.';\n",
              "          element.innerHTML = '';\n",
              "          dataTable['output_type'] = 'display_data';\n",
              "          await google.colab.output.renderOutput(dataTable, element);\n",
              "          const docLink = document.createElement('div');\n",
              "          docLink.innerHTML = docLinkHtml;\n",
              "          element.appendChild(docLink);\n",
              "        }\n",
              "      </script>\n",
              "    </div>\n",
              "  </div>\n",
              "  "
            ]
          },
          "metadata": {},
          "execution_count": 63
        }
      ]
    },
    {
      "cell_type": "markdown",
      "source": [
        "Dataset Rows & Columns count"
      ],
      "metadata": {
        "id": "7hBIi_osiCS2"
      }
    },
    {
      "cell_type": "code",
      "source": [
        "# Dataset Rows & Columns count\n",
        "df.shape"
      ],
      "metadata": {
        "id": "Kllu7SJgmLij",
        "colab": {
          "base_uri": "https://localhost:8080/"
        },
        "outputId": "99d5bdd3-bb6b-4e67-a6ee-d64eeb39302d"
      },
      "execution_count": 64,
      "outputs": [
        {
          "output_type": "execute_result",
          "data": {
            "text/plain": [
              "(119390, 32)"
            ]
          },
          "metadata": {},
          "execution_count": 64
        }
      ]
    },
    {
      "cell_type": "markdown",
      "source": [
        "Dataset is given with 119390 rows and 32 columns"
      ],
      "metadata": {
        "id": "f66tVkzuhZ9z"
      }
    },
    {
      "cell_type": "code",
      "source": [
        "# copy the dataset\n",
        "h_df = df.copy()\n",
        "h_df"
      ],
      "metadata": {
        "id": "LB2DQ-HagvGY",
        "colab": {
          "base_uri": "https://localhost:8080/",
          "height": 661
        },
        "outputId": "ce0b89be-5f9f-4b74-bfae-ca24ad5fdfc7"
      },
      "execution_count": 65,
      "outputs": [
        {
          "output_type": "execute_result",
          "data": {
            "text/plain": [
              "               hotel  is_canceled  lead_time  arrival_date_year  \\\n",
              "0       Resort Hotel            0        342               2015   \n",
              "1       Resort Hotel            0        737               2015   \n",
              "2       Resort Hotel            0          7               2015   \n",
              "3       Resort Hotel            0         13               2015   \n",
              "4       Resort Hotel            0         14               2015   \n",
              "...              ...          ...        ...                ...   \n",
              "119385    City Hotel            0         23               2017   \n",
              "119386    City Hotel            0        102               2017   \n",
              "119387    City Hotel            0         34               2017   \n",
              "119388    City Hotel            0        109               2017   \n",
              "119389    City Hotel            0        205               2017   \n",
              "\n",
              "       arrival_date_month  arrival_date_week_number  \\\n",
              "0                    July                        27   \n",
              "1                    July                        27   \n",
              "2                    July                        27   \n",
              "3                    July                        27   \n",
              "4                    July                        27   \n",
              "...                   ...                       ...   \n",
              "119385             August                        35   \n",
              "119386             August                        35   \n",
              "119387             August                        35   \n",
              "119388             August                        35   \n",
              "119389             August                        35   \n",
              "\n",
              "        arrival_date_day_of_month  stays_in_weekend_nights  \\\n",
              "0                               1                        0   \n",
              "1                               1                        0   \n",
              "2                               1                        0   \n",
              "3                               1                        0   \n",
              "4                               1                        0   \n",
              "...                           ...                      ...   \n",
              "119385                         30                        2   \n",
              "119386                         31                        2   \n",
              "119387                         31                        2   \n",
              "119388                         31                        2   \n",
              "119389                         29                        2   \n",
              "\n",
              "        stays_in_week_nights  adults  ...  deposit_type  agent company  \\\n",
              "0                          0       2  ...    No Deposit    NaN     NaN   \n",
              "1                          0       2  ...    No Deposit    NaN     NaN   \n",
              "2                          1       1  ...    No Deposit    NaN     NaN   \n",
              "3                          1       1  ...    No Deposit  304.0     NaN   \n",
              "4                          2       2  ...    No Deposit  240.0     NaN   \n",
              "...                      ...     ...  ...           ...    ...     ...   \n",
              "119385                     5       2  ...    No Deposit  394.0     NaN   \n",
              "119386                     5       3  ...    No Deposit    9.0     NaN   \n",
              "119387                     5       2  ...    No Deposit    9.0     NaN   \n",
              "119388                     5       2  ...    No Deposit   89.0     NaN   \n",
              "119389                     7       2  ...    No Deposit    9.0     NaN   \n",
              "\n",
              "       days_in_waiting_list customer_type     adr  \\\n",
              "0                         0     Transient    0.00   \n",
              "1                         0     Transient    0.00   \n",
              "2                         0     Transient   75.00   \n",
              "3                         0     Transient   75.00   \n",
              "4                         0     Transient   98.00   \n",
              "...                     ...           ...     ...   \n",
              "119385                    0     Transient   96.14   \n",
              "119386                    0     Transient  225.43   \n",
              "119387                    0     Transient  157.71   \n",
              "119388                    0     Transient  104.40   \n",
              "119389                    0     Transient  151.20   \n",
              "\n",
              "        required_car_parking_spaces  total_of_special_requests  \\\n",
              "0                                 0                          0   \n",
              "1                                 0                          0   \n",
              "2                                 0                          0   \n",
              "3                                 0                          0   \n",
              "4                                 0                          1   \n",
              "...                             ...                        ...   \n",
              "119385                            0                          0   \n",
              "119386                            0                          2   \n",
              "119387                            0                          4   \n",
              "119388                            0                          0   \n",
              "119389                            0                          2   \n",
              "\n",
              "        reservation_status reservation_status_date  \n",
              "0                Check-Out              2015-07-01  \n",
              "1                Check-Out              2015-07-01  \n",
              "2                Check-Out              2015-07-02  \n",
              "3                Check-Out              2015-07-02  \n",
              "4                Check-Out              2015-07-03  \n",
              "...                    ...                     ...  \n",
              "119385           Check-Out              2017-09-06  \n",
              "119386           Check-Out              2017-09-07  \n",
              "119387           Check-Out              2017-09-07  \n",
              "119388           Check-Out              2017-09-07  \n",
              "119389           Check-Out              2017-09-07  \n",
              "\n",
              "[119390 rows x 32 columns]"
            ],
            "text/html": [
              "\n",
              "  <div id=\"df-cf0944e4-aee6-4bcc-b66f-fb23e9545a4b\">\n",
              "    <div class=\"colab-df-container\">\n",
              "      <div>\n",
              "<style scoped>\n",
              "    .dataframe tbody tr th:only-of-type {\n",
              "        vertical-align: middle;\n",
              "    }\n",
              "\n",
              "    .dataframe tbody tr th {\n",
              "        vertical-align: top;\n",
              "    }\n",
              "\n",
              "    .dataframe thead th {\n",
              "        text-align: right;\n",
              "    }\n",
              "</style>\n",
              "<table border=\"1\" class=\"dataframe\">\n",
              "  <thead>\n",
              "    <tr style=\"text-align: right;\">\n",
              "      <th></th>\n",
              "      <th>hotel</th>\n",
              "      <th>is_canceled</th>\n",
              "      <th>lead_time</th>\n",
              "      <th>arrival_date_year</th>\n",
              "      <th>arrival_date_month</th>\n",
              "      <th>arrival_date_week_number</th>\n",
              "      <th>arrival_date_day_of_month</th>\n",
              "      <th>stays_in_weekend_nights</th>\n",
              "      <th>stays_in_week_nights</th>\n",
              "      <th>adults</th>\n",
              "      <th>...</th>\n",
              "      <th>deposit_type</th>\n",
              "      <th>agent</th>\n",
              "      <th>company</th>\n",
              "      <th>days_in_waiting_list</th>\n",
              "      <th>customer_type</th>\n",
              "      <th>adr</th>\n",
              "      <th>required_car_parking_spaces</th>\n",
              "      <th>total_of_special_requests</th>\n",
              "      <th>reservation_status</th>\n",
              "      <th>reservation_status_date</th>\n",
              "    </tr>\n",
              "  </thead>\n",
              "  <tbody>\n",
              "    <tr>\n",
              "      <th>0</th>\n",
              "      <td>Resort Hotel</td>\n",
              "      <td>0</td>\n",
              "      <td>342</td>\n",
              "      <td>2015</td>\n",
              "      <td>July</td>\n",
              "      <td>27</td>\n",
              "      <td>1</td>\n",
              "      <td>0</td>\n",
              "      <td>0</td>\n",
              "      <td>2</td>\n",
              "      <td>...</td>\n",
              "      <td>No Deposit</td>\n",
              "      <td>NaN</td>\n",
              "      <td>NaN</td>\n",
              "      <td>0</td>\n",
              "      <td>Transient</td>\n",
              "      <td>0.00</td>\n",
              "      <td>0</td>\n",
              "      <td>0</td>\n",
              "      <td>Check-Out</td>\n",
              "      <td>2015-07-01</td>\n",
              "    </tr>\n",
              "    <tr>\n",
              "      <th>1</th>\n",
              "      <td>Resort Hotel</td>\n",
              "      <td>0</td>\n",
              "      <td>737</td>\n",
              "      <td>2015</td>\n",
              "      <td>July</td>\n",
              "      <td>27</td>\n",
              "      <td>1</td>\n",
              "      <td>0</td>\n",
              "      <td>0</td>\n",
              "      <td>2</td>\n",
              "      <td>...</td>\n",
              "      <td>No Deposit</td>\n",
              "      <td>NaN</td>\n",
              "      <td>NaN</td>\n",
              "      <td>0</td>\n",
              "      <td>Transient</td>\n",
              "      <td>0.00</td>\n",
              "      <td>0</td>\n",
              "      <td>0</td>\n",
              "      <td>Check-Out</td>\n",
              "      <td>2015-07-01</td>\n",
              "    </tr>\n",
              "    <tr>\n",
              "      <th>2</th>\n",
              "      <td>Resort Hotel</td>\n",
              "      <td>0</td>\n",
              "      <td>7</td>\n",
              "      <td>2015</td>\n",
              "      <td>July</td>\n",
              "      <td>27</td>\n",
              "      <td>1</td>\n",
              "      <td>0</td>\n",
              "      <td>1</td>\n",
              "      <td>1</td>\n",
              "      <td>...</td>\n",
              "      <td>No Deposit</td>\n",
              "      <td>NaN</td>\n",
              "      <td>NaN</td>\n",
              "      <td>0</td>\n",
              "      <td>Transient</td>\n",
              "      <td>75.00</td>\n",
              "      <td>0</td>\n",
              "      <td>0</td>\n",
              "      <td>Check-Out</td>\n",
              "      <td>2015-07-02</td>\n",
              "    </tr>\n",
              "    <tr>\n",
              "      <th>3</th>\n",
              "      <td>Resort Hotel</td>\n",
              "      <td>0</td>\n",
              "      <td>13</td>\n",
              "      <td>2015</td>\n",
              "      <td>July</td>\n",
              "      <td>27</td>\n",
              "      <td>1</td>\n",
              "      <td>0</td>\n",
              "      <td>1</td>\n",
              "      <td>1</td>\n",
              "      <td>...</td>\n",
              "      <td>No Deposit</td>\n",
              "      <td>304.0</td>\n",
              "      <td>NaN</td>\n",
              "      <td>0</td>\n",
              "      <td>Transient</td>\n",
              "      <td>75.00</td>\n",
              "      <td>0</td>\n",
              "      <td>0</td>\n",
              "      <td>Check-Out</td>\n",
              "      <td>2015-07-02</td>\n",
              "    </tr>\n",
              "    <tr>\n",
              "      <th>4</th>\n",
              "      <td>Resort Hotel</td>\n",
              "      <td>0</td>\n",
              "      <td>14</td>\n",
              "      <td>2015</td>\n",
              "      <td>July</td>\n",
              "      <td>27</td>\n",
              "      <td>1</td>\n",
              "      <td>0</td>\n",
              "      <td>2</td>\n",
              "      <td>2</td>\n",
              "      <td>...</td>\n",
              "      <td>No Deposit</td>\n",
              "      <td>240.0</td>\n",
              "      <td>NaN</td>\n",
              "      <td>0</td>\n",
              "      <td>Transient</td>\n",
              "      <td>98.00</td>\n",
              "      <td>0</td>\n",
              "      <td>1</td>\n",
              "      <td>Check-Out</td>\n",
              "      <td>2015-07-03</td>\n",
              "    </tr>\n",
              "    <tr>\n",
              "      <th>...</th>\n",
              "      <td>...</td>\n",
              "      <td>...</td>\n",
              "      <td>...</td>\n",
              "      <td>...</td>\n",
              "      <td>...</td>\n",
              "      <td>...</td>\n",
              "      <td>...</td>\n",
              "      <td>...</td>\n",
              "      <td>...</td>\n",
              "      <td>...</td>\n",
              "      <td>...</td>\n",
              "      <td>...</td>\n",
              "      <td>...</td>\n",
              "      <td>...</td>\n",
              "      <td>...</td>\n",
              "      <td>...</td>\n",
              "      <td>...</td>\n",
              "      <td>...</td>\n",
              "      <td>...</td>\n",
              "      <td>...</td>\n",
              "      <td>...</td>\n",
              "    </tr>\n",
              "    <tr>\n",
              "      <th>119385</th>\n",
              "      <td>City Hotel</td>\n",
              "      <td>0</td>\n",
              "      <td>23</td>\n",
              "      <td>2017</td>\n",
              "      <td>August</td>\n",
              "      <td>35</td>\n",
              "      <td>30</td>\n",
              "      <td>2</td>\n",
              "      <td>5</td>\n",
              "      <td>2</td>\n",
              "      <td>...</td>\n",
              "      <td>No Deposit</td>\n",
              "      <td>394.0</td>\n",
              "      <td>NaN</td>\n",
              "      <td>0</td>\n",
              "      <td>Transient</td>\n",
              "      <td>96.14</td>\n",
              "      <td>0</td>\n",
              "      <td>0</td>\n",
              "      <td>Check-Out</td>\n",
              "      <td>2017-09-06</td>\n",
              "    </tr>\n",
              "    <tr>\n",
              "      <th>119386</th>\n",
              "      <td>City Hotel</td>\n",
              "      <td>0</td>\n",
              "      <td>102</td>\n",
              "      <td>2017</td>\n",
              "      <td>August</td>\n",
              "      <td>35</td>\n",
              "      <td>31</td>\n",
              "      <td>2</td>\n",
              "      <td>5</td>\n",
              "      <td>3</td>\n",
              "      <td>...</td>\n",
              "      <td>No Deposit</td>\n",
              "      <td>9.0</td>\n",
              "      <td>NaN</td>\n",
              "      <td>0</td>\n",
              "      <td>Transient</td>\n",
              "      <td>225.43</td>\n",
              "      <td>0</td>\n",
              "      <td>2</td>\n",
              "      <td>Check-Out</td>\n",
              "      <td>2017-09-07</td>\n",
              "    </tr>\n",
              "    <tr>\n",
              "      <th>119387</th>\n",
              "      <td>City Hotel</td>\n",
              "      <td>0</td>\n",
              "      <td>34</td>\n",
              "      <td>2017</td>\n",
              "      <td>August</td>\n",
              "      <td>35</td>\n",
              "      <td>31</td>\n",
              "      <td>2</td>\n",
              "      <td>5</td>\n",
              "      <td>2</td>\n",
              "      <td>...</td>\n",
              "      <td>No Deposit</td>\n",
              "      <td>9.0</td>\n",
              "      <td>NaN</td>\n",
              "      <td>0</td>\n",
              "      <td>Transient</td>\n",
              "      <td>157.71</td>\n",
              "      <td>0</td>\n",
              "      <td>4</td>\n",
              "      <td>Check-Out</td>\n",
              "      <td>2017-09-07</td>\n",
              "    </tr>\n",
              "    <tr>\n",
              "      <th>119388</th>\n",
              "      <td>City Hotel</td>\n",
              "      <td>0</td>\n",
              "      <td>109</td>\n",
              "      <td>2017</td>\n",
              "      <td>August</td>\n",
              "      <td>35</td>\n",
              "      <td>31</td>\n",
              "      <td>2</td>\n",
              "      <td>5</td>\n",
              "      <td>2</td>\n",
              "      <td>...</td>\n",
              "      <td>No Deposit</td>\n",
              "      <td>89.0</td>\n",
              "      <td>NaN</td>\n",
              "      <td>0</td>\n",
              "      <td>Transient</td>\n",
              "      <td>104.40</td>\n",
              "      <td>0</td>\n",
              "      <td>0</td>\n",
              "      <td>Check-Out</td>\n",
              "      <td>2017-09-07</td>\n",
              "    </tr>\n",
              "    <tr>\n",
              "      <th>119389</th>\n",
              "      <td>City Hotel</td>\n",
              "      <td>0</td>\n",
              "      <td>205</td>\n",
              "      <td>2017</td>\n",
              "      <td>August</td>\n",
              "      <td>35</td>\n",
              "      <td>29</td>\n",
              "      <td>2</td>\n",
              "      <td>7</td>\n",
              "      <td>2</td>\n",
              "      <td>...</td>\n",
              "      <td>No Deposit</td>\n",
              "      <td>9.0</td>\n",
              "      <td>NaN</td>\n",
              "      <td>0</td>\n",
              "      <td>Transient</td>\n",
              "      <td>151.20</td>\n",
              "      <td>0</td>\n",
              "      <td>2</td>\n",
              "      <td>Check-Out</td>\n",
              "      <td>2017-09-07</td>\n",
              "    </tr>\n",
              "  </tbody>\n",
              "</table>\n",
              "<p>119390 rows × 32 columns</p>\n",
              "</div>\n",
              "      <button class=\"colab-df-convert\" onclick=\"convertToInteractive('df-cf0944e4-aee6-4bcc-b66f-fb23e9545a4b')\"\n",
              "              title=\"Convert this dataframe to an interactive table.\"\n",
              "              style=\"display:none;\">\n",
              "        \n",
              "  <svg xmlns=\"http://www.w3.org/2000/svg\" height=\"24px\"viewBox=\"0 0 24 24\"\n",
              "       width=\"24px\">\n",
              "    <path d=\"M0 0h24v24H0V0z\" fill=\"none\"/>\n",
              "    <path d=\"M18.56 5.44l.94 2.06.94-2.06 2.06-.94-2.06-.94-.94-2.06-.94 2.06-2.06.94zm-11 1L8.5 8.5l.94-2.06 2.06-.94-2.06-.94L8.5 2.5l-.94 2.06-2.06.94zm10 10l.94 2.06.94-2.06 2.06-.94-2.06-.94-.94-2.06-.94 2.06-2.06.94z\"/><path d=\"M17.41 7.96l-1.37-1.37c-.4-.4-.92-.59-1.43-.59-.52 0-1.04.2-1.43.59L10.3 9.45l-7.72 7.72c-.78.78-.78 2.05 0 2.83L4 21.41c.39.39.9.59 1.41.59.51 0 1.02-.2 1.41-.59l7.78-7.78 2.81-2.81c.8-.78.8-2.07 0-2.86zM5.41 20L4 18.59l7.72-7.72 1.47 1.35L5.41 20z\"/>\n",
              "  </svg>\n",
              "      </button>\n",
              "      \n",
              "  <style>\n",
              "    .colab-df-container {\n",
              "      display:flex;\n",
              "      flex-wrap:wrap;\n",
              "      gap: 12px;\n",
              "    }\n",
              "\n",
              "    .colab-df-convert {\n",
              "      background-color: #E8F0FE;\n",
              "      border: none;\n",
              "      border-radius: 50%;\n",
              "      cursor: pointer;\n",
              "      display: none;\n",
              "      fill: #1967D2;\n",
              "      height: 32px;\n",
              "      padding: 0 0 0 0;\n",
              "      width: 32px;\n",
              "    }\n",
              "\n",
              "    .colab-df-convert:hover {\n",
              "      background-color: #E2EBFA;\n",
              "      box-shadow: 0px 1px 2px rgba(60, 64, 67, 0.3), 0px 1px 3px 1px rgba(60, 64, 67, 0.15);\n",
              "      fill: #174EA6;\n",
              "    }\n",
              "\n",
              "    [theme=dark] .colab-df-convert {\n",
              "      background-color: #3B4455;\n",
              "      fill: #D2E3FC;\n",
              "    }\n",
              "\n",
              "    [theme=dark] .colab-df-convert:hover {\n",
              "      background-color: #434B5C;\n",
              "      box-shadow: 0px 1px 3px 1px rgba(0, 0, 0, 0.15);\n",
              "      filter: drop-shadow(0px 1px 2px rgba(0, 0, 0, 0.3));\n",
              "      fill: #FFFFFF;\n",
              "    }\n",
              "  </style>\n",
              "\n",
              "      <script>\n",
              "        const buttonEl =\n",
              "          document.querySelector('#df-cf0944e4-aee6-4bcc-b66f-fb23e9545a4b button.colab-df-convert');\n",
              "        buttonEl.style.display =\n",
              "          google.colab.kernel.accessAllowed ? 'block' : 'none';\n",
              "\n",
              "        async function convertToInteractive(key) {\n",
              "          const element = document.querySelector('#df-cf0944e4-aee6-4bcc-b66f-fb23e9545a4b');\n",
              "          const dataTable =\n",
              "            await google.colab.kernel.invokeFunction('convertToInteractive',\n",
              "                                                     [key], {});\n",
              "          if (!dataTable) return;\n",
              "\n",
              "          const docLinkHtml = 'Like what you see? Visit the ' +\n",
              "            '<a target=\"_blank\" href=https://colab.research.google.com/notebooks/data_table.ipynb>data table notebook</a>'\n",
              "            + ' to learn more about interactive tables.';\n",
              "          element.innerHTML = '';\n",
              "          dataTable['output_type'] = 'display_data';\n",
              "          await google.colab.output.renderOutput(dataTable, element);\n",
              "          const docLink = document.createElement('div');\n",
              "          docLink.innerHTML = docLinkHtml;\n",
              "          element.appendChild(docLink);\n",
              "        }\n",
              "      </script>\n",
              "    </div>\n",
              "  </div>\n",
              "  "
            ]
          },
          "metadata": {},
          "execution_count": 65
        }
      ]
    },
    {
      "cell_type": "markdown",
      "source": [
        "By copying we can do manipulation without afftecting the original dataset"
      ],
      "metadata": {
        "id": "ltmDYt0FhOE-"
      }
    },
    {
      "cell_type": "markdown",
      "source": [
        "### Dataset Information"
      ],
      "metadata": {
        "id": "JlHwYmJAmNHm"
      }
    },
    {
      "cell_type": "code",
      "source": [
        "# Dataset Info\n",
        "h_df.info()"
      ],
      "metadata": {
        "id": "e9hRXRi6meOf",
        "colab": {
          "base_uri": "https://localhost:8080/"
        },
        "outputId": "36b527ef-4a8b-44b9-a463-8079f1c18787"
      },
      "execution_count": 66,
      "outputs": [
        {
          "output_type": "stream",
          "name": "stdout",
          "text": [
            "<class 'pandas.core.frame.DataFrame'>\n",
            "RangeIndex: 119390 entries, 0 to 119389\n",
            "Data columns (total 32 columns):\n",
            " #   Column                          Non-Null Count   Dtype  \n",
            "---  ------                          --------------   -----  \n",
            " 0   hotel                           119390 non-null  object \n",
            " 1   is_canceled                     119390 non-null  int64  \n",
            " 2   lead_time                       119390 non-null  int64  \n",
            " 3   arrival_date_year               119390 non-null  int64  \n",
            " 4   arrival_date_month              119390 non-null  object \n",
            " 5   arrival_date_week_number        119390 non-null  int64  \n",
            " 6   arrival_date_day_of_month       119390 non-null  int64  \n",
            " 7   stays_in_weekend_nights         119390 non-null  int64  \n",
            " 8   stays_in_week_nights            119390 non-null  int64  \n",
            " 9   adults                          119390 non-null  int64  \n",
            " 10  children                        119386 non-null  float64\n",
            " 11  babies                          119390 non-null  int64  \n",
            " 12  meal                            119390 non-null  object \n",
            " 13  country                         118902 non-null  object \n",
            " 14  market_segment                  119390 non-null  object \n",
            " 15  distribution_channel            119390 non-null  object \n",
            " 16  is_repeated_guest               119390 non-null  int64  \n",
            " 17  previous_cancellations          119390 non-null  int64  \n",
            " 18  previous_bookings_not_canceled  119390 non-null  int64  \n",
            " 19  reserved_room_type              119390 non-null  object \n",
            " 20  assigned_room_type              119390 non-null  object \n",
            " 21  booking_changes                 119390 non-null  int64  \n",
            " 22  deposit_type                    119390 non-null  object \n",
            " 23  agent                           103050 non-null  float64\n",
            " 24  company                         6797 non-null    float64\n",
            " 25  days_in_waiting_list            119390 non-null  int64  \n",
            " 26  customer_type                   119390 non-null  object \n",
            " 27  adr                             119390 non-null  float64\n",
            " 28  required_car_parking_spaces     119390 non-null  int64  \n",
            " 29  total_of_special_requests       119390 non-null  int64  \n",
            " 30  reservation_status              119390 non-null  object \n",
            " 31  reservation_status_date         119390 non-null  object \n",
            "dtypes: float64(4), int64(16), object(12)\n",
            "memory usage: 29.1+ MB\n"
          ]
        }
      ]
    },
    {
      "cell_type": "markdown",
      "source": [
        "## 2.Cleaning of Data"
      ],
      "metadata": {
        "id": "nc3C7zhdjYAG"
      }
    },
    {
      "cell_type": "markdown",
      "source": [
        "Here, our data preparation process has been explained. This includes importing the data, handling missing values, and refactoring several of the variables.\n",
        " "
      ],
      "metadata": {
        "id": "Na2plRLqHs51"
      }
    },
    {
      "cell_type": "markdown",
      "source": [
        "#### Missing Values/Null Values"
      ],
      "metadata": {
        "id": "PoPl-ycgm1ru"
      }
    },
    {
      "cell_type": "code",
      "source": [
        "# Missing Values/Null Values Count\n",
        "null_val = pd.isnull(h_df).sum()[pd.isnull(h_df).sum() > 0]\n",
        "null_val.index"
      ],
      "metadata": {
        "id": "GgHWkxvamxVg",
        "colab": {
          "base_uri": "https://localhost:8080/"
        },
        "outputId": "463c2c4b-19f6-4547-86df-1bc2bb75f110"
      },
      "execution_count": 67,
      "outputs": [
        {
          "output_type": "execute_result",
          "data": {
            "text/plain": [
              "Index(['children', 'country', 'agent', 'company'], dtype='object')"
            ]
          },
          "metadata": {},
          "execution_count": 67
        }
      ]
    },
    {
      "cell_type": "markdown",
      "source": [
        "we get that children, company, agent, country are having null \n",
        "\n",
        "values"
      ],
      "metadata": {
        "id": "o0JkhP-LivNf"
      }
    },
    {
      "cell_type": "code",
      "source": [
        "# Visualizing the missing values\n",
        "# Enlarging the pie chart\n",
        "plt.rcParams['figure.figsize'] = 8,8\n",
        "\n",
        "# Indexing labels. tolist() will convert the index to list for easy manipulation\n",
        "labels = null_val.index.tolist()\n",
        "\n",
        "# Convert value counts to list\n",
        "sizes = null_val.tolist()\n",
        "\n",
        "# # As the name suggest, explode will determine how much each section is separated from each other \n",
        "explode = (0.33, 0.1,0,0)\n",
        "\n",
        "# # Determine colour of pie chart\n",
        "colors = ['black', 'pink','red', 'blue']\n",
        "fig1, ax1 = plt.subplots()\n",
        "\n",
        "\n",
        "plt.pie(sizes, explode=explode, labels=labels, colors=colors, autopct='%1.1f%%',startangle=90, textprops={'fontsize': 14})\n",
        "ax1.axis('equal')  \n",
        "plt.show()\n",
        "plt.tight_layout()\n"
      ],
      "metadata": {
        "id": "3q5wnI3om9sJ",
        "colab": {
          "base_uri": "https://localhost:8080/",
          "height": 488
        },
        "outputId": "c3f2a9a8-952f-4b79-e485-c43df5840d5c"
      },
      "execution_count": 68,
      "outputs": [
        {
          "output_type": "display_data",
          "data": {
            "text/plain": [
              "<Figure size 576x576 with 1 Axes>"
            ],
            "image/png": "[encoded data removed]"
          },
          "metadata": {}
        },
        {
          "output_type": "display_data",
          "data": {
            "text/plain": [
              "<Figure size 576x576 with 0 Axes>"
            ]
          },
          "metadata": {}
        }
      ]
    },
    {
      "cell_type": "markdown",
      "source": [
        "From the above pie chart we can see the percentage of missing values\n"
      ],
      "metadata": {
        "id": "JiWlrn-Bi6e5"
      }
    },
    {
      "cell_type": "markdown",
      "source": [
        "**Replacing Nulls**"
      ],
      "metadata": {
        "id": "_KKxLSppUor-"
      }
    },
    {
      "cell_type": "markdown",
      "source": [],
      "metadata": {
        "id": "R_7gogZNvbBQ"
      }
    },
    {
      "cell_type": "code",
      "source": [
        "# Filling null values\n",
        "h_df[['agent', 'company']] = h_df[['agent', 'company']].fillna(0)\n",
        "h_df['children'].fillna(h_df['children'].mean(), inplace = True)\n",
        "h_df['country'].fillna(h_df['country'].value_counts(). index[0], inplace = True)\n"
      ],
      "metadata": {
        "id": "16aY44U3KVO_"
      },
      "execution_count": 69,
      "outputs": []
    },
    {
      "cell_type": "markdown",
      "source": [
        "Children has 4 NA values. This is very small compared to the total number of observations. So we can directly remove them or replace with mean value. Here we are replacing these NAs with mean values of children.\n",
        "Variables Agent 16340 NULL values and company has 112593 NULL values.\n",
        "\n",
        "This is very high observations. So we cannot remove these NULL values as that will remove important data.\n",
        "\n",
        "So we are replacing these NULL values with 0, as the agent and company values are just IDs replacing with 0 won’t create any problem.\n",
        "\n",
        "Country also we have 488 NULL values, as this is not very big number we can either delete these rows, or replace NULL values with most repeating country"
      ],
      "metadata": {
        "id": "mj--XkaPVC6h"
      }
    },
    {
      "cell_type": "markdown",
      "source": [
        "**Duplicate Values**"
      ],
      "metadata": {
        "id": "35m5QtbWiB9F"
      }
    },
    {
      "cell_type": "code",
      "source": [
        "# Drop the Duplicate\n",
        "h_df.drop_duplicates(inplace = True)\n",
        "h_df.shape\n"
      ],
      "metadata": {
        "id": "1sLdpKYkmox0",
        "colab": {
          "base_uri": "https://localhost:8080/"
        },
        "outputId": "4e20e2bd-d279-4b7a-b36d-5552cdcd702a"
      },
      "execution_count": 70,
      "outputs": [
        {
          "output_type": "execute_result",
          "data": {
            "text/plain": [
              "(87377, 32)"
            ]
          },
          "metadata": {},
          "execution_count": 70
        }
      ]
    },
    {
      "cell_type": "markdown",
      "source": [
        "### Variables Description "
      ],
      "metadata": {
        "id": "PBTbrJXOngz2"
      }
    },
    {
      "cell_type": "markdown",
      "source": [
        "Original data has total 119390 observations with 32 variables; Data has around 17 variables that are integers and 14 variables that are character data type, whereas average daily rate is of num data type.\n",
        "\n",
        "Data types for all variables seems to be correct, there is no need of correction here."
      ],
      "metadata": {
        "id": "aJV4KIxSnxay"
      }
    },
    {
      "cell_type": "markdown",
      "source": [
        "### Check Unique Values for each variable."
      ],
      "metadata": {
        "id": "u3PMJOP6ngxN"
      }
    },
    {
      "cell_type": "code",
      "source": [
        "# Check Unique Values for each variable.\n",
        "\n",
        "h_df['hotel'].unique()"
      ],
      "metadata": {
        "id": "zms12Yq5n-jE",
        "colab": {
          "base_uri": "https://localhost:8080/"
        },
        "outputId": "4f18f2cb-3ab7-4757-fc0b-04fa4865f58b"
      },
      "execution_count": 71,
      "outputs": [
        {
          "output_type": "execute_result",
          "data": {
            "text/plain": [
              "array(['Resort Hotel', 'City Hotel'], dtype=object)"
            ]
          },
          "metadata": {},
          "execution_count": 71
        }
      ]
    },
    {
      "cell_type": "code",
      "source": [
        "h_df['is_canceled'].unique()"
      ],
      "metadata": {
        "id": "nvhGOkkfq5RL",
        "colab": {
          "base_uri": "https://localhost:8080/"
        },
        "outputId": "50b73e1a-6331-4a34-cf29-5f196910aa66"
      },
      "execution_count": 72,
      "outputs": [
        {
          "output_type": "execute_result",
          "data": {
            "text/plain": [
              "array([0, 1])"
            ]
          },
          "metadata": {},
          "execution_count": 72
        }
      ]
    },
    {
      "cell_type": "code",
      "source": [
        "h_df['meal'].unique()"
      ],
      "metadata": {
        "id": "mGWYrnf6q5cT",
        "colab": {
          "base_uri": "https://localhost:8080/"
        },
        "outputId": "29d569d4-b360-46ee-a074-4aa4de4ee204"
      },
      "execution_count": 73,
      "outputs": [
        {
          "output_type": "execute_result",
          "data": {
            "text/plain": [
              "array(['BB', 'FB', 'HB', 'SC', 'Undefined'], dtype=object)"
            ]
          },
          "metadata": {},
          "execution_count": 73
        }
      ]
    },
    {
      "cell_type": "markdown",
      "source": [
        "Undefined/SC — no meal package;\n",
        "\n",
        "\n",
        "BB — Bed & Breakfast;\n",
        "\n",
        "\n",
        "HB — Half board (breakfast and one other meal — usually dinner);\n",
        "\n",
        "\n",
        "FB — Full board (breakfast, lunch and dinner)"
      ],
      "metadata": {
        "id": "Ge5LfH4Jcbbf"
      }
    },
    {
      "cell_type": "code",
      "source": [
        "h_df['market_segment'].unique()"
      ],
      "metadata": {
        "id": "S6ypO3C4q5fF",
        "colab": {
          "base_uri": "https://localhost:8080/"
        },
        "outputId": "4aebe8f0-b2aa-4e43-ce19-0cb3a3609d1f"
      },
      "execution_count": 74,
      "outputs": [
        {
          "output_type": "execute_result",
          "data": {
            "text/plain": [
              "array(['Direct', 'Corporate', 'Online TA', 'Offline TA/TO',\n",
              "       'Complementary', 'Groups', 'Undefined', 'Aviation'], dtype=object)"
            ]
          },
          "metadata": {},
          "execution_count": 74
        }
      ]
    },
    {
      "cell_type": "code",
      "source": [
        "h_df['children'].unique()    "
      ],
      "metadata": {
        "id": "3oBfxM7Yq5iC",
        "colab": {
          "base_uri": "https://localhost:8080/"
        },
        "outputId": "250095f7-c011-434f-8e72-5d75f6c36901"
      },
      "execution_count": 75,
      "outputs": [
        {
          "output_type": "execute_result",
          "data": {
            "text/plain": [
              "array([ 0.       ,  1.       ,  2.       , 10.       ,  3.       ,\n",
              "        0.1038899])"
            ]
          },
          "metadata": {},
          "execution_count": 75
        }
      ]
    },
    {
      "cell_type": "code",
      "source": [
        "h_df['distribution_channel'].unique()"
      ],
      "metadata": {
        "id": "76u5KoLtq5lE",
        "colab": {
          "base_uri": "https://localhost:8080/"
        },
        "outputId": "06f044c7-7a59-42fb-9485-5e117dbfa296"
      },
      "execution_count": 76,
      "outputs": [
        {
          "output_type": "execute_result",
          "data": {
            "text/plain": [
              "array(['Direct', 'Corporate', 'TA/TO', 'Undefined', 'GDS'], dtype=object)"
            ]
          },
          "metadata": {},
          "execution_count": 76
        }
      ]
    },
    {
      "cell_type": "code",
      "source": [
        "h_df['arrival_date_year'].unique()"
      ],
      "metadata": {
        "id": "lTs0jV3sq5nx",
        "colab": {
          "base_uri": "https://localhost:8080/"
        },
        "outputId": "e7b643c3-d7d0-407a-dacc-ec24189961f2"
      },
      "execution_count": 77,
      "outputs": [
        {
          "output_type": "execute_result",
          "data": {
            "text/plain": [
              "array([2015, 2016, 2017])"
            ]
          },
          "metadata": {},
          "execution_count": 77
        }
      ]
    },
    {
      "cell_type": "markdown",
      "source": [
        "Data Sanity check"
      ],
      "metadata": {
        "id": "xfWkDsJ2PEX7"
      }
    },
    {
      "cell_type": "code",
      "source": [
        "h_df[\"total_guest\"]= h_df[\"adults\"] + h_df[\"children\"] +h_df[\"babies\"]\n",
        "\n",
        "# data has some float value so round off has been done\n",
        "round_off = [round(i) for i in h_df[\"total_guest\"]] \n",
        "\n",
        "# converting list to series for value_counts\n",
        "pd.Series(round_off).value_counts()                 "
      ],
      "metadata": {
        "id": "wk-9a2fpoLcV",
        "colab": {
          "base_uri": "https://localhost:8080/"
        },
        "outputId": "f4fc319c-c9e0-4a74-d3a4-64c9e1e53a36"
      },
      "execution_count": 78,
      "outputs": [
        {
          "output_type": "execute_result",
          "data": {
            "text/plain": [
              "2     57050\n",
              "1     16060\n",
              "3     10078\n",
              "4      3870\n",
              "0       166\n",
              "5       136\n",
              "26        5\n",
              "12        2\n",
              "27        2\n",
              "20        2\n",
              "10        2\n",
              "40        1\n",
              "50        1\n",
              "55        1\n",
              "6         1\n",
              "dtype: int64"
            ]
          },
          "metadata": {},
          "execution_count": 78
        }
      ]
    },
    {
      "cell_type": "code",
      "source": [
        "del_0_value =h_df.drop(h_df[h_df['total_guest']== 0 ].index) # delet row by column values which has 0 guest\n",
        "del_0_value.count()\n"
      ],
      "metadata": {
        "id": "dkZpmlMY16Ox",
        "colab": {
          "base_uri": "https://localhost:8080/"
        },
        "outputId": "ae4ec445-492b-402c-d16b-c37723c89327"
      },
      "execution_count": 79,
      "outputs": [
        {
          "output_type": "execute_result",
          "data": {
            "text/plain": [
              "hotel                             87211\n",
              "is_canceled                       87211\n",
              "lead_time                         87211\n",
              "arrival_date_year                 87211\n",
              "arrival_date_month                87211\n",
              "arrival_date_week_number          87211\n",
              "arrival_date_day_of_month         87211\n",
              "stays_in_weekend_nights           87211\n",
              "stays_in_week_nights              87211\n",
              "adults                            87211\n",
              "children                          87211\n",
              "babies                            87211\n",
              "meal                              87211\n",
              "country                           87211\n",
              "market_segment                    87211\n",
              "distribution_channel              87211\n",
              "is_repeated_guest                 87211\n",
              "previous_cancellations            87211\n",
              "previous_bookings_not_canceled    87211\n",
              "reserved_room_type                87211\n",
              "assigned_room_type                87211\n",
              "booking_changes                   87211\n",
              "deposit_type                      87211\n",
              "agent                             87211\n",
              "company                           87211\n",
              "days_in_waiting_list              87211\n",
              "customer_type                     87211\n",
              "adr                               87211\n",
              "required_car_parking_spaces       87211\n",
              "total_of_special_requests         87211\n",
              "reservation_status                87211\n",
              "reservation_status_date           87211\n",
              "total_guest                       87211\n",
              "dtype: int64"
            ]
          },
          "metadata": {},
          "execution_count": 79
        }
      ]
    },
    {
      "cell_type": "markdown",
      "source": [
        "For each booking, there should be at-least 1 guest, here guests are of three categories: * Adults * Children * Babies We have combined all three and added a new column called “total_guests”.\n",
        "\n",
        "But in data we have around 166 rows which have 0 guests. So we are removing those rows directly, as booking without guests doesn’t make sense."
      ],
      "metadata": {
        "id": "uAT56GIIsXus"
      }
    },
    {
      "cell_type": "markdown",
      "source": [
        "# Outliers Detection"
      ],
      "metadata": {
        "id": "hCrtpW94Ajb0"
      }
    },
    {
      "cell_type": "markdown",
      "source": [
        "Plots of Various numeric variables\n",
        "\n",
        "\n",
        "I will be picking boxplot to identify outlies for easy understanding"
      ],
      "metadata": {
        "id": "Z0tROz3qA6Rx"
      }
    },
    {
      "cell_type": "code",
      "source": [
        "# Creating a boxplot for Outlier detection\n",
        "\n",
        "# Boxplot for adults\n",
        "plt.figure(figsize=(6, 6))\n",
        "sns.boxplot(x=h_df[\"adults\"])\n",
        "plt.show()\n"
      ],
      "metadata": {
        "id": "QkICtcW6A4Om",
        "colab": {
          "base_uri": "https://localhost:8080/",
          "height": 388
        },
        "outputId": "e62645e5-75f2-4eb2-a4fd-0ec9de24f18a"
      },
      "execution_count": 80,
      "outputs": [
        {
          "output_type": "display_data",
          "data": {
            "text/plain": [
              "<Figure size 432x432 with 1 Axes>"
            ],
            "image/png": "[encoded data removed]"
          },
          "metadata": {
            "needs_background": "light"
          }
        }
      ]
    },
    {
      "cell_type": "code",
      "source": [
        "# Boxplot for children\n",
        "plt.figure(figsize=(6, 6))\n",
        "sns.boxplot(x=h_df[\"children\"])\n",
        "plt.show()"
      ],
      "metadata": {
        "id": "_MBTpOKz1E5q",
        "colab": {
          "base_uri": "https://localhost:8080/",
          "height": 388
        },
        "outputId": "9b4650a9-9a88-473c-fae2-8cfaf72789dd"
      },
      "execution_count": 81,
      "outputs": [
        {
          "output_type": "display_data",
          "data": {
            "text/plain": [
              "<Figure size 432x432 with 1 Axes>"
            ],
            "image/png": "[encoded data removed]"
          },
          "metadata": {
            "needs_background": "light"
          }
        }
      ]
    },
    {
      "cell_type": "code",
      "source": [
        "# Boxplot for babies\n",
        "plt.figure(figsize=(6, 6))\n",
        "sns.boxplot(x=h_df[\"babies\"])\n",
        "plt.show()"
      ],
      "metadata": {
        "id": "yW9LkkCs1Wou",
        "colab": {
          "base_uri": "https://localhost:8080/",
          "height": 388
        },
        "outputId": "11d83fba-324c-42f6-ee13-8dbb9ce9bf77"
      },
      "execution_count": 82,
      "outputs": [
        {
          "output_type": "display_data",
          "data": {
            "text/plain": [
              "<Figure size 432x432 with 1 Axes>"
            ],
            "image/png": "[encoded data removed]"
          },
          "metadata": {
            "needs_background": "light"
          }
        }
      ]
    },
    {
      "cell_type": "code",
      "source": [
        "# Boxplot for days_in_waiting_list\n",
        "plt.figure(figsize=(6, 6))\n",
        "sns.boxplot(x=h_df[\"days_in_waiting_list\"])\n",
        "plt.show()"
      ],
      "metadata": {
        "id": "Sh6TboFY1Wro",
        "colab": {
          "base_uri": "https://localhost:8080/",
          "height": 389
        },
        "outputId": "e4dc6c5c-7621-4ec5-a30a-44d83253d591"
      },
      "execution_count": 83,
      "outputs": [
        {
          "output_type": "display_data",
          "data": {
            "text/plain": [
              "<Figure size 432x432 with 1 Axes>"
            ],
            "image/png": "[encoded data removed]"
          },
          "metadata": {
            "needs_background": "light"
          }
        }
      ]
    },
    {
      "cell_type": "code",
      "source": [
        "# Boxplot for stays_in_weekend_nights\n",
        "plt.figure(figsize=(6, 6))\n",
        "sns.boxplot(x=h_df[\"stays_in_weekend_nights\"])\n",
        "plt.show()"
      ],
      "metadata": {
        "id": "XJo1VZ2v1Wui",
        "colab": {
          "base_uri": "https://localhost:8080/",
          "height": 389
        },
        "outputId": "ce083728-135a-486d-fef8-c6285d3f5e5a"
      },
      "execution_count": 84,
      "outputs": [
        {
          "output_type": "display_data",
          "data": {
            "text/plain": [
              "<Figure size 432x432 with 1 Axes>"
            ],
            "image/png": "[encoded data removed]"
          },
          "metadata": {
            "needs_background": "light"
          }
        }
      ]
    },
    {
      "cell_type": "code",
      "source": [
        "# Boxplot for stays_in_week_nights\n",
        "plt.figure(figsize=(6, 6))\n",
        "sns.boxplot(x=h_df[\"stays_in_week_nights\"])\n",
        "plt.show()"
      ],
      "metadata": {
        "id": "JjASHDhh1Wxo",
        "colab": {
          "base_uri": "https://localhost:8080/",
          "height": 389
        },
        "outputId": "d1fd0bba-6753-4bc9-d48f-1d4ac1928242"
      },
      "execution_count": 85,
      "outputs": [
        {
          "output_type": "display_data",
          "data": {
            "text/plain": [
              "<Figure size 432x432 with 1 Axes>"
            ],
            "image/png": "[encoded data removed]"
          },
          "metadata": {
            "needs_background": "light"
          }
        }
      ]
    },
    {
      "cell_type": "code",
      "source": [
        "# Boxplot for required_car_parking_spaces\n",
        "plt.figure(figsize=(6, 6))\n",
        "sns.boxplot(x=h_df[\"required_car_parking_spaces\"])\n",
        "plt.show()"
      ],
      "metadata": {
        "id": "qOtwBR851qOu",
        "colab": {
          "base_uri": "https://localhost:8080/",
          "height": 389
        },
        "outputId": "1352d31c-43bc-401b-db35-764c91925458"
      },
      "execution_count": 86,
      "outputs": [
        {
          "output_type": "display_data",
          "data": {
            "text/plain": [
              "<Figure size 432x432 with 1 Axes>"
            ],
            "image/png": "[encoded data removed]"
          },
          "metadata": {
            "needs_background": "light"
          }
        }
      ]
    },
    {
      "cell_type": "code",
      "source": [
        "# Boxplot for previous_cancellations \n",
        "plt.figure(figsize=(6, 6))\n",
        "sns.boxplot(x=h_df[\"previous_cancellations\"])\n",
        "plt.show()"
      ],
      "metadata": {
        "id": "vTIViwGd_KXg",
        "colab": {
          "base_uri": "https://localhost:8080/",
          "height": 389
        },
        "outputId": "450cb30c-9be0-401d-a4bb-882d5e7e57d9"
      },
      "execution_count": 87,
      "outputs": [
        {
          "output_type": "display_data",
          "data": {
            "text/plain": [
              "<Figure size 432x432 with 1 Axes>"
            ],
            "image/png": "[encoded data removed]"
          },
          "metadata": {
            "needs_background": "light"
          }
        }
      ]
    },
    {
      "cell_type": "code",
      "source": [
        "# Boxplot for previous_bookings_not_canceled \n",
        "plt.figure(figsize=(6, 6))\n",
        "sns.boxplot(x=h_df[\"previous_bookings_not_canceled\"])\n",
        "plt.show()"
      ],
      "metadata": {
        "id": "_-MqE7N7_ZaD",
        "colab": {
          "base_uri": "https://localhost:8080/",
          "height": 389
        },
        "outputId": "ef6016f3-add5-4849-ac35-a89fd9a9c8c4"
      },
      "execution_count": 88,
      "outputs": [
        {
          "output_type": "display_data",
          "data": {
            "text/plain": [
              "<Figure size 432x432 with 1 Axes>"
            ],
            "image/png": "[encoded data removed]"
          },
          "metadata": {
            "needs_background": "light"
          }
        }
      ]
    },
    {
      "cell_type": "code",
      "source": [
        "# Boxplot for booking_changes \n",
        "plt.figure(figsize=(6, 6))\n",
        "sns.boxplot(x=h_df[\"booking_changes\"])\n",
        "plt.show()"
      ],
      "metadata": {
        "id": "loexgSir_9fx",
        "colab": {
          "base_uri": "https://localhost:8080/",
          "height": 389
        },
        "outputId": "ee5213ec-86aa-4a57-dffe-b6ec945d5d53"
      },
      "execution_count": 89,
      "outputs": [
        {
          "output_type": "display_data",
          "data": {
            "text/plain": [
              "<Figure size 432x432 with 1 Axes>"
            ],
            "image/png": "[encoded data removed]"
          },
          "metadata": {
            "needs_background": "light"
          }
        }
      ]
    },
    {
      "cell_type": "code",
      "source": [
        "# Boxplot for total_of_special_requests\n",
        "plt.figure(figsize=(6, 6))\n",
        "sns.boxplot(x=h_df[\"total_of_special_requests\"])\n",
        "plt.show()"
      ],
      "metadata": {
        "id": "zzda3UUrM3T6",
        "colab": {
          "base_uri": "https://localhost:8080/",
          "height": 389
        },
        "outputId": "180a6254-a4e2-4da2-ae36-6398d3de69b6"
      },
      "execution_count": 90,
      "outputs": [
        {
          "output_type": "display_data",
          "data": {
            "text/plain": [
              "<Figure size 432x432 with 1 Axes>"
            ],
            "image/png": "[encoded data removed]"
          },
          "metadata": {
            "needs_background": "light"
          }
        }
      ]
    },
    {
      "cell_type": "code",
      "source": [
        "# Boxplot for adr\n",
        "plt.figure(figsize=(6, 6))\n",
        "sns.boxplot(x=h_df[\"adr\"])\n",
        "plt.show()"
      ],
      "metadata": {
        "id": "FRKkb7bo1qSc",
        "colab": {
          "base_uri": "https://localhost:8080/",
          "height": 388
        },
        "outputId": "9f507f0e-55fd-4dfb-ec6f-b65ff287ffc5"
      },
      "execution_count": 91,
      "outputs": [
        {
          "output_type": "display_data",
          "data": {
            "text/plain": [
              "<Figure size 432x432 with 1 Axes>"
            ],
            "image/png": "[encoded data removed]"
          },
          "metadata": {
            "needs_background": "light"
          }
        }
      ]
    },
    {
      "cell_type": "markdown",
      "source": [
        "Also the negative value in Average daily rate -6.38, as it is just 1 observation we are directly removing that observation.\n",
        "\n",
        "Now after removing we have 119389 observations instead of 119390"
      ],
      "metadata": {
        "id": "OXdDitk9wRHi"
      }
    },
    {
      "cell_type": "code",
      "source": [
        "neg_adr =h_df[h_df['adr'] < 0].index\n",
        "h_df.drop((neg_adr),axis=0, inplace = True)\n"
      ],
      "metadata": {
        "id": "vdU_mdTswQZU"
      },
      "execution_count": 92,
      "outputs": []
    },
    {
      "cell_type": "markdown",
      "source": [
        "# Observations of outliers detection\n",
        "In the Average Daily Rate column, 1 max value= 5400 and min value = -6.38  which is possibly an outlier.\n",
        "\n",
        "\n",
        "\n",
        "In waiting column days have values greater than a year.it is quite unusual\n",
        "\n",
        "\n",
        "\n",
        "Children column, has one specific observation where the number of children is 10.No of adults corresponding to that booking is however only 2.Mostly all the other values are within 4. \n",
        "\n",
        "\n",
        "\n",
        "Nothing unusual found in the rest of the columns."
      ],
      "metadata": {
        "id": "1fuGA9NFNm1H"
      }
    },
    {
      "cell_type": "markdown",
      "source": [
        "## Removal of outliers\n",
        "The Average Daily Rate column, one with a value 5400 should be removed"
      ],
      "metadata": {
        "id": "GF8Ens_Soomf"
      }
    },
    {
      "cell_type": "code",
      "source": [
        "max_ard = h_df[h_df['adr'] == 5400].index\n",
        "h_df.drop((max_ard),axis=0, inplace = True)\n"
      ],
      "metadata": {
        "id": "RzUQM87KVWe2"
      },
      "execution_count": 93,
      "outputs": []
    },
    {
      "cell_type": "code",
      "source": [
        "#It's setting the value of the  column in a DataFrame \"h_df\" to given condition \n",
        "h_df.loc[h_df.stays_in_weekend_nights >=  5, 'stays_in_weekend_nights'] = 5\n",
        "h_df.loc[h_df.adults > 4, 'adults'] = 4\n",
        "h_df.loc[h_df.previous_bookings_not_canceled > 0, 'previous_bookings_not_canceled'] = 1\n",
        "h_df.loc[h_df.previous_cancellations > 0, 'previous_cancellations'] = 1\n",
        "h_df.loc[h_df.stays_in_week_nights > 10, 'stays_in_week_nights'] = 10\n",
        "h_df.loc[h_df.booking_changes > 5, 'booking_changes'] = 5\n",
        "h_df.loc[h_df.babies > 8, 'babies'] = 0\n",
        "h_df.loc[h_df.required_car_parking_spaces > 5, 'required_car_parking_spaces'] = 0\n"
      ],
      "metadata": {
        "id": "CCDHi0vkwhul"
      },
      "execution_count": 94,
      "outputs": []
    },
    {
      "cell_type": "markdown",
      "source": [
        "# Exploratory Data Analysis"
      ],
      "metadata": {
        "id": "2-O9vfpQZmqf"
      }
    },
    {
      "cell_type": "markdown",
      "source": [
        "We can implement Exploratory data analysis tools and techniques to investigate, analyze, and summarize the main characteristics of datasets, often utilizing data visualization methodologies. EDA techniques allow for effective manipulation of data."
      ],
      "metadata": {
        "id": "z7w1CHwOZmt3"
      }
    },
    {
      "cell_type": "markdown",
      "source": [
        "\n",
        "Now we are going to analyse by some problem statement"
      ],
      "metadata": {
        "id": "5odxqL6idDVD"
      }
    },
    {
      "cell_type": "markdown",
      "source": [
        "***Answering to Problem Statments***"
      ],
      "metadata": {
        "id": "6pn_YNL_RJ4L"
      }
    },
    {
      "cell_type": "markdown",
      "source": [
        "# Most Preferred Hotel Type"
      ],
      "metadata": {
        "id": "pMhY85vvG2cI"
      }
    },
    {
      "cell_type": "markdown",
      "source": [
        "1.  Count of both the hotel\n",
        "\n",
        "\n",
        "\n"
      ],
      "metadata": {
        "id": "v1xwZM51dZZy"
      }
    },
    {
      "cell_type": "code",
      "source": [
        "#city and resort hotel count\n",
        "hotel = h_df['hotel']\n",
        "hotel.value_counts(normalize=True)\n",
        "plt.figure(figsize=(5,5))\n",
        "sns.countplot(x = hotel, palette='husl',)\n",
        "plt.show()\n"
      ],
      "metadata": {
        "id": "OwqSfP8VdYs7",
        "colab": {
          "base_uri": "https://localhost:8080/",
          "height": 334
        },
        "outputId": "60599fc5-3932-41f8-c447-8d312e47a287"
      },
      "execution_count": 95,
      "outputs": [
        {
          "output_type": "display_data",
          "data": {
            "text/plain": [
              "<Figure size 360x360 with 1 Axes>"
            ],
            "image/png": "[encoded data removed]"
          },
          "metadata": {
            "needs_background": "light"
          }
        }
      ]
    },
    {
      "cell_type": "markdown",
      "source": [
        "City hotel count is higher than the Resort hotel"
      ],
      "metadata": {
        "id": "kCwHVOb4tQhD"
      }
    },
    {
      "cell_type": "markdown",
      "source": [
        "2. Hotel having maximum night stay by guest(both weekend and week days)\n",
        "\n",
        "---\n",
        "\n"
      ],
      "metadata": {
        "id": "D26jXn7M6pAf"
      }
    },
    {
      "cell_type": "code",
      "source": [
        "#adding both night stays from both hotel\n",
        "h_df[\"night_stays\"] = h_df['stays_in_weekend_nights'] + h_df['stays_in_week_nights']\n",
        "max_night_stay = h_df.groupby(\"hotel\")[\"night_stays\"].count()\n",
        "\n",
        "#pie chart to visualize the both stays from both the hotel\n",
        "\n",
        "cols = ['blue', 'yellow']\n",
        "max_night_stay.plot.pie(autopct='%1.1f%%',shadow=True, colors=cols)\n",
        "\n"
      ],
      "metadata": {
        "id": "F3l68uF87CdT",
        "colab": {
          "base_uri": "https://localhost:8080/",
          "height": 484
        },
        "outputId": "4e03e914-1c3f-46d6-d89b-8301e267cb29"
      },
      "execution_count": 96,
      "outputs": [
        {
          "output_type": "execute_result",
          "data": {
            "text/plain": [
              "<matplotlib.axes._subplots.AxesSubplot at 0x7fade3965ca0>"
            ]
          },
          "metadata": {},
          "execution_count": 96
        },
        {
          "output_type": "display_data",
          "data": {
            "text/plain": [
              "<Figure size 576x576 with 1 Axes>"
            ],
            "image/png": "[encoded data removed]"
          },
          "metadata": {}
        }
      ]
    },
    {
      "cell_type": "markdown",
      "source": [
        "Here we can see through pie chart that city hotel occupied around 61% percent of night stays "
      ],
      "metadata": {
        "id": "mgeZxLFnttdm"
      }
    },
    {
      "cell_type": "markdown",
      "source": [
        "From the above pie chart we can get that city hotel has maximum night stays\n"
      ],
      "metadata": {
        "id": "psKEf235mwlR"
      }
    },
    {
      "cell_type": "markdown",
      "source": [
        "3.Calculate revenue for all bookings"
      ],
      "metadata": {
        "id": "K5QZ13OEpz2H"
      }
    },
    {
      "cell_type": "markdown",
      "source": [
        "To find the total revenue earned by each booking , this can be calculated by multiplying total number of nights and average daily price"
      ],
      "metadata": {
        "id": "adFqeYEf1Zoi"
      }
    },
    {
      "cell_type": "code",
      "source": [
        "# multiply ard with night stays of guests.\n",
        "h_df[\"revenue\"] = h_df[\"night_stays\"] * h_df[\"adr\"]\n",
        "\n",
        "h_df[\"revenue\"]"
      ],
      "metadata": {
        "id": "IycpPJr4Zm73",
        "colab": {
          "base_uri": "https://localhost:8080/"
        },
        "outputId": "8973ba39-8375-4c29-bdf7-2e45bc61bace"
      },
      "execution_count": 97,
      "outputs": [
        {
          "output_type": "execute_result",
          "data": {
            "text/plain": [
              "0            0.00\n",
              "1            0.00\n",
              "2           75.00\n",
              "3           75.00\n",
              "4          196.00\n",
              "           ...   \n",
              "119385     672.98\n",
              "119386    1578.01\n",
              "119387    1103.97\n",
              "119388     730.80\n",
              "119389    1360.80\n",
              "Name: revenue, Length: 87375, dtype: float64"
            ]
          },
          "metadata": {},
          "execution_count": 97
        }
      ]
    },
    {
      "cell_type": "code",
      "source": [
        "# getting total revenue by non-cancelled data.\n",
        "not_canceled=h_df[h_df['is_canceled'] == 0]\n",
        "total_revenue=not_canceled.groupby('hotel')[\"revenue\"].sum().reset_index() #grouping revenue accoring to hotel\n",
        "total_revenue\n",
        "plt.figure(figsize=(12, 6))\n",
        "sns.barplot(x = 'hotel', y = 'revenue',hue=\"hotel\", data=total_revenue,palette='Pastel1')\n",
        "plt.title(\"Total Revenue \",fontweight=\"bold\", size=20)\n",
        "plt.show()\n",
        "total_revenue"
      ],
      "metadata": {
        "id": "ofa0d5nc8v8i",
        "colab": {
          "base_uri": "https://localhost:8080/",
          "height": 504
        },
        "outputId": "6dda44a2-08ed-4f08-c49b-8319b22ea606"
      },
      "execution_count": 98,
      "outputs": [
        {
          "output_type": "display_data",
          "data": {
            "text/plain": [
              "<Figure size 864x432 with 1 Axes>"
            ],
            "image/png": "[encoded data removed]"
          },
          "metadata": {
            "needs_background": "light"
          }
        },
        {
          "output_type": "execute_result",
          "data": {
            "text/plain": [
              "          hotel      revenue\n",
              "0    City Hotel  12149440.33\n",
              "1  Resort Hotel  10745673.39"
            ],
            "text/html": [
              "\n",
              "  <div id=\"df-9d4018e0-4676-4127-b377-42973ecff2fe\">\n",
              "    <div class=\"colab-df-container\">\n",
              "      <div>\n",
              "<style scoped>\n",
              "    .dataframe tbody tr th:only-of-type {\n",
              "        vertical-align: middle;\n",
              "    }\n",
              "\n",
              "    .dataframe tbody tr th {\n",
              "        vertical-align: top;\n",
              "    }\n",
              "\n",
              "    .dataframe thead th {\n",
              "        text-align: right;\n",
              "    }\n",
              "</style>\n",
              "<table border=\"1\" class=\"dataframe\">\n",
              "  <thead>\n",
              "    <tr style=\"text-align: right;\">\n",
              "      <th></th>\n",
              "      <th>hotel</th>\n",
              "      <th>revenue</th>\n",
              "    </tr>\n",
              "  </thead>\n",
              "  <tbody>\n",
              "    <tr>\n",
              "      <th>0</th>\n",
              "      <td>City Hotel</td>\n",
              "      <td>12149440.33</td>\n",
              "    </tr>\n",
              "    <tr>\n",
              "      <th>1</th>\n",
              "      <td>Resort Hotel</td>\n",
              "      <td>10745673.39</td>\n",
              "    </tr>\n",
              "  </tbody>\n",
              "</table>\n",
              "</div>\n",
              "      <button class=\"colab-df-convert\" onclick=\"convertToInteractive('df-9d4018e0-4676-4127-b377-42973ecff2fe')\"\n",
              "              title=\"Convert this dataframe to an interactive table.\"\n",
              "              style=\"display:none;\">\n",
              "        \n",
              "  <svg xmlns=\"http://www.w3.org/2000/svg\" height=\"24px\"viewBox=\"0 0 24 24\"\n",
              "       width=\"24px\">\n",
              "    <path d=\"M0 0h24v24H0V0z\" fill=\"none\"/>\n",
              "    <path d=\"M18.56 5.44l.94 2.06.94-2.06 2.06-.94-2.06-.94-.94-2.06-.94 2.06-2.06.94zm-11 1L8.5 8.5l.94-2.06 2.06-.94-2.06-.94L8.5 2.5l-.94 2.06-2.06.94zm10 10l.94 2.06.94-2.06 2.06-.94-2.06-.94-.94-2.06-.94 2.06-2.06.94z\"/><path d=\"M17.41 7.96l-1.37-1.37c-.4-.4-.92-.59-1.43-.59-.52 0-1.04.2-1.43.59L10.3 9.45l-7.72 7.72c-.78.78-.78 2.05 0 2.83L4 21.41c.39.39.9.59 1.41.59.51 0 1.02-.2 1.41-.59l7.78-7.78 2.81-2.81c.8-.78.8-2.07 0-2.86zM5.41 20L4 18.59l7.72-7.72 1.47 1.35L5.41 20z\"/>\n",
              "  </svg>\n",
              "      </button>\n",
              "      \n",
              "  <style>\n",
              "    .colab-df-container {\n",
              "      display:flex;\n",
              "      flex-wrap:wrap;\n",
              "      gap: 12px;\n",
              "    }\n",
              "\n",
              "    .colab-df-convert {\n",
              "      background-color: #E8F0FE;\n",
              "      border: none;\n",
              "      border-radius: 50%;\n",
              "      cursor: pointer;\n",
              "      display: none;\n",
              "      fill: #1967D2;\n",
              "      height: 32px;\n",
              "      padding: 0 0 0 0;\n",
              "      width: 32px;\n",
              "    }\n",
              "\n",
              "    .colab-df-convert:hover {\n",
              "      background-color: #E2EBFA;\n",
              "      box-shadow: 0px 1px 2px rgba(60, 64, 67, 0.3), 0px 1px 3px 1px rgba(60, 64, 67, 0.15);\n",
              "      fill: #174EA6;\n",
              "    }\n",
              "\n",
              "    [theme=dark] .colab-df-convert {\n",
              "      background-color: #3B4455;\n",
              "      fill: #D2E3FC;\n",
              "    }\n",
              "\n",
              "    [theme=dark] .colab-df-convert:hover {\n",
              "      background-color: #434B5C;\n",
              "      box-shadow: 0px 1px 3px 1px rgba(0, 0, 0, 0.15);\n",
              "      filter: drop-shadow(0px 1px 2px rgba(0, 0, 0, 0.3));\n",
              "      fill: #FFFFFF;\n",
              "    }\n",
              "  </style>\n",
              "\n",
              "      <script>\n",
              "        const buttonEl =\n",
              "          document.querySelector('#df-9d4018e0-4676-4127-b377-42973ecff2fe button.colab-df-convert');\n",
              "        buttonEl.style.display =\n",
              "          google.colab.kernel.accessAllowed ? 'block' : 'none';\n",
              "\n",
              "        async function convertToInteractive(key) {\n",
              "          const element = document.querySelector('#df-9d4018e0-4676-4127-b377-42973ecff2fe');\n",
              "          const dataTable =\n",
              "            await google.colab.kernel.invokeFunction('convertToInteractive',\n",
              "                                                     [key], {});\n",
              "          if (!dataTable) return;\n",
              "\n",
              "          const docLinkHtml = 'Like what you see? Visit the ' +\n",
              "            '<a target=\"_blank\" href=https://colab.research.google.com/notebooks/data_table.ipynb>data table notebook</a>'\n",
              "            + ' to learn more about interactive tables.';\n",
              "          element.innerHTML = '';\n",
              "          dataTable['output_type'] = 'display_data';\n",
              "          await google.colab.output.renderOutput(dataTable, element);\n",
              "          const docLink = document.createElement('div');\n",
              "          docLink.innerHTML = docLinkHtml;\n",
              "          element.appendChild(docLink);\n",
              "        }\n",
              "      </script>\n",
              "    </div>\n",
              "  </div>\n",
              "  "
            ]
          },
          "metadata": {},
          "execution_count": 98
        }
      ]
    },
    {
      "cell_type": "markdown",
      "source": [
        "The total  revenue of City Hotel = 12149440.33 and Resort Hotel = 10745673.39\n",
        "\n",
        "\n",
        "It shows that city hotel has more revenue than the resort hotel \n",
        "\n",
        "\n",
        "This was because of more night stays in city hotel"
      ],
      "metadata": {
        "id": "X3d2-mYqC1Nm"
      }
    },
    {
      "cell_type": "markdown",
      "source": [
        "4.what is the total booking of the hotel?\n",
        "\n",
        "\n"
      ],
      "metadata": {
        "id": "7faBkzZk5cVZ"
      }
    },
    {
      "cell_type": "markdown",
      "source": [
        "To make a table of Total booking for each Hotel type. we only considering the reservations which are not canceled."
      ],
      "metadata": {
        "id": "Zedu-cWz0wy4"
      }
    },
    {
      "cell_type": "code",
      "source": [
        "# In is_cancelled column 0 indicates not cacelled , 1 indicates cancelled\n",
        "not_canceled=h_df[h_df['is_canceled'] == 0]\n",
        "all_booking=not_canceled.groupby('hotel')[\"is_canceled\"].count().reset_index()\n",
        "all_booking\n",
        "\n",
        "#count of City Hotel = 37379  Resort Hotel  =  25973"
      ],
      "metadata": {
        "id": "2kDbi7STZm_B",
        "colab": {
          "base_uri": "https://localhost:8080/",
          "height": 112
        },
        "outputId": "4f785b0c-8a8b-46cc-f3d5-3f62b6f41c92"
      },
      "execution_count": 99,
      "outputs": [
        {
          "output_type": "execute_result",
          "data": {
            "text/plain": [
              "          hotel  is_canceled\n",
              "0    City Hotel        37379\n",
              "1  Resort Hotel        25973"
            ],
            "text/html": [
              "\n",
              "  <div id=\"df-27ad79f7-b8c0-411f-8ab5-9e2e169f7ee2\">\n",
              "    <div class=\"colab-df-container\">\n",
              "      <div>\n",
              "<style scoped>\n",
              "    .dataframe tbody tr th:only-of-type {\n",
              "        vertical-align: middle;\n",
              "    }\n",
              "\n",
              "    .dataframe tbody tr th {\n",
              "        vertical-align: top;\n",
              "    }\n",
              "\n",
              "    .dataframe thead th {\n",
              "        text-align: right;\n",
              "    }\n",
              "</style>\n",
              "<table border=\"1\" class=\"dataframe\">\n",
              "  <thead>\n",
              "    <tr style=\"text-align: right;\">\n",
              "      <th></th>\n",
              "      <th>hotel</th>\n",
              "      <th>is_canceled</th>\n",
              "    </tr>\n",
              "  </thead>\n",
              "  <tbody>\n",
              "    <tr>\n",
              "      <th>0</th>\n",
              "      <td>City Hotel</td>\n",
              "      <td>37379</td>\n",
              "    </tr>\n",
              "    <tr>\n",
              "      <th>1</th>\n",
              "      <td>Resort Hotel</td>\n",
              "      <td>25973</td>\n",
              "    </tr>\n",
              "  </tbody>\n",
              "</table>\n",
              "</div>\n",
              "      <button class=\"colab-df-convert\" onclick=\"convertToInteractive('df-27ad79f7-b8c0-411f-8ab5-9e2e169f7ee2')\"\n",
              "              title=\"Convert this dataframe to an interactive table.\"\n",
              "              style=\"display:none;\">\n",
              "        \n",
              "  <svg xmlns=\"http://www.w3.org/2000/svg\" height=\"24px\"viewBox=\"0 0 24 24\"\n",
              "       width=\"24px\">\n",
              "    <path d=\"M0 0h24v24H0V0z\" fill=\"none\"/>\n",
              "    <path d=\"M18.56 5.44l.94 2.06.94-2.06 2.06-.94-2.06-.94-.94-2.06-.94 2.06-2.06.94zm-11 1L8.5 8.5l.94-2.06 2.06-.94-2.06-.94L8.5 2.5l-.94 2.06-2.06.94zm10 10l.94 2.06.94-2.06 2.06-.94-2.06-.94-.94-2.06-.94 2.06-2.06.94z\"/><path d=\"M17.41 7.96l-1.37-1.37c-.4-.4-.92-.59-1.43-.59-.52 0-1.04.2-1.43.59L10.3 9.45l-7.72 7.72c-.78.78-.78 2.05 0 2.83L4 21.41c.39.39.9.59 1.41.59.51 0 1.02-.2 1.41-.59l7.78-7.78 2.81-2.81c.8-.78.8-2.07 0-2.86zM5.41 20L4 18.59l7.72-7.72 1.47 1.35L5.41 20z\"/>\n",
              "  </svg>\n",
              "      </button>\n",
              "      \n",
              "  <style>\n",
              "    .colab-df-container {\n",
              "      display:flex;\n",
              "      flex-wrap:wrap;\n",
              "      gap: 12px;\n",
              "    }\n",
              "\n",
              "    .colab-df-convert {\n",
              "      background-color: #E8F0FE;\n",
              "      border: none;\n",
              "      border-radius: 50%;\n",
              "      cursor: pointer;\n",
              "      display: none;\n",
              "      fill: #1967D2;\n",
              "      height: 32px;\n",
              "      padding: 0 0 0 0;\n",
              "      width: 32px;\n",
              "    }\n",
              "\n",
              "    .colab-df-convert:hover {\n",
              "      background-color: #E2EBFA;\n",
              "      box-shadow: 0px 1px 2px rgba(60, 64, 67, 0.3), 0px 1px 3px 1px rgba(60, 64, 67, 0.15);\n",
              "      fill: #174EA6;\n",
              "    }\n",
              "\n",
              "    [theme=dark] .colab-df-convert {\n",
              "      background-color: #3B4455;\n",
              "      fill: #D2E3FC;\n",
              "    }\n",
              "\n",
              "    [theme=dark] .colab-df-convert:hover {\n",
              "      background-color: #434B5C;\n",
              "      box-shadow: 0px 1px 3px 1px rgba(0, 0, 0, 0.15);\n",
              "      filter: drop-shadow(0px 1px 2px rgba(0, 0, 0, 0.3));\n",
              "      fill: #FFFFFF;\n",
              "    }\n",
              "  </style>\n",
              "\n",
              "      <script>\n",
              "        const buttonEl =\n",
              "          document.querySelector('#df-27ad79f7-b8c0-411f-8ab5-9e2e169f7ee2 button.colab-df-convert');\n",
              "        buttonEl.style.display =\n",
              "          google.colab.kernel.accessAllowed ? 'block' : 'none';\n",
              "\n",
              "        async function convertToInteractive(key) {\n",
              "          const element = document.querySelector('#df-27ad79f7-b8c0-411f-8ab5-9e2e169f7ee2');\n",
              "          const dataTable =\n",
              "            await google.colab.kernel.invokeFunction('convertToInteractive',\n",
              "                                                     [key], {});\n",
              "          if (!dataTable) return;\n",
              "\n",
              "          const docLinkHtml = 'Like what you see? Visit the ' +\n",
              "            '<a target=\"_blank\" href=https://colab.research.google.com/notebooks/data_table.ipynb>data table notebook</a>'\n",
              "            + ' to learn more about interactive tables.';\n",
              "          element.innerHTML = '';\n",
              "          dataTable['output_type'] = 'display_data';\n",
              "          await google.colab.output.renderOutput(dataTable, element);\n",
              "          const docLink = document.createElement('div');\n",
              "          docLink.innerHTML = docLinkHtml;\n",
              "          element.appendChild(docLink);\n",
              "        }\n",
              "      </script>\n",
              "    </div>\n",
              "  </div>\n",
              "  "
            ]
          },
          "metadata": {},
          "execution_count": 99
        }
      ]
    },
    {
      "cell_type": "markdown",
      "source": [
        "The total booking count of City Hotel = 37379 and  Resort Hotel  =  25973"
      ],
      "metadata": {
        "id": "UCpBakpo60ve"
      }
    },
    {
      "cell_type": "markdown",
      "source": [
        "5. How much do guests pay for a room per night?"
      ],
      "metadata": {
        "id": "UxG0Y0Y-vi2U"
      }
    },
    {
      "cell_type": "code",
      "source": [
        "resort_hotel = h_df.loc[(h_df[\"hotel\"] == \"Resort Hotel\") & (h_df[\"is_canceled\"] == 0)]\n",
        "city_hotel = h_df.loc[(h_df[\"hotel\"] == \"City Hotel\") & (h_df[\"is_canceled\"] == 0)]\n",
        "\n",
        "#City Hotel\n",
        "# Counting adults and children as paying guests only, not babies.\n",
        "city_hotel[\"adr_pp\"] = city_hotel[\"adr\"] / (city_hotel[\"adults\"] + city_hotel[\"children\"])\n",
        "\n",
        "#dataset contains infinite values we might have to remove those infinite values for that am replacing with 0\n",
        "city_hotel_filtered = city_hotel.replace([np.inf, -np.inf], 0)\n",
        "\n",
        "#same for resort Hotel\n",
        "resort_hotel[\"adr_pp\"] = resort_hotel[\"adr\"] / (resort_hotel[\"adults\"] + resort_hotel[\"children\"])\n",
        "resort_hotel_filtered = resort_hotel.replace([np.inf, -np.inf], 0)\n",
        "\n",
        "#average rent per night\n",
        "print(resort_hotel_filtered[\"adr_pp\"].mean(), city_hotel_filtered[\"adr_pp\"].mean())"
      ],
      "metadata": {
        "id": "5-ka6IE0vh7g",
        "colab": {
          "base_uri": "https://localhost:8080/"
        },
        "outputId": "36e31afb-4e70-4e7d-cd73-dc800f44b51c"
      },
      "execution_count": 100,
      "outputs": [
        {
          "output_type": "stream",
          "name": "stdout",
          "text": [
            "48.11155780439583 59.463375302977454\n"
          ]
        },
        {
          "output_type": "stream",
          "name": "stderr",
          "text": [
            "<ipython-input-100-00c6f8bed7b7>:6: SettingWithCopyWarning: \n",
            "A value is trying to be set on a copy of a slice from a DataFrame.\n",
            "Try using .loc[row_indexer,col_indexer] = value instead\n",
            "\n",
            "See the caveats in the documentation: https://pandas.pydata.org/pandas-docs/stable/user_guide/indexing.html#returning-a-view-versus-a-copy\n",
            "  city_hotel[\"adr_pp\"] = city_hotel[\"adr\"] / (city_hotel[\"adults\"] + city_hotel[\"children\"])\n",
            "<ipython-input-100-00c6f8bed7b7>:12: SettingWithCopyWarning: \n",
            "A value is trying to be set on a copy of a slice from a DataFrame.\n",
            "Try using .loc[row_indexer,col_indexer] = value instead\n",
            "\n",
            "See the caveats in the documentation: https://pandas.pydata.org/pandas-docs/stable/user_guide/indexing.html#returning-a-view-versus-a-copy\n",
            "  resort_hotel[\"adr_pp\"] = resort_hotel[\"adr\"] / (resort_hotel[\"adults\"] + resort_hotel[\"children\"])\n"
          ]
        }
      ]
    },
    {
      "cell_type": "markdown",
      "source": [
        "Resort hotel = 48 € per night\n",
        "\n",
        "\n",
        "City Hotel =59 € per night\n",
        "\n"
      ],
      "metadata": {
        "id": "6gM3pAO5077e"
      }
    },
    {
      "cell_type": "markdown",
      "source": [
        "# Cancellation "
      ],
      "metadata": {
        "id": "lQ7QKXXCp7Bj"
      }
    },
    {
      "cell_type": "markdown",
      "source": [
        "**6**.The cancellation trends,"
      ],
      "metadata": {
        "id": "Zh7hTJXOonyT"
      }
    },
    {
      "cell_type": "markdown",
      "source": [
        "Univariate graphical"
      ],
      "metadata": {
        "id": "Wve7c_1t4RTp"
      }
    },
    {
      "cell_type": "code",
      "source": [
        "#Cancellation of hotel\n",
        "plt.figure(figsize=(12, 6))\n",
        "\n",
        "sns.countplot(x='hotel',hue=\"is_canceled\", data=h_df)\n",
        "plt.title(\"Cancelation of City hotel and Resort hotel\",fontweight=\"bold\", size=20)\n",
        "plt.show()\n"
      ],
      "metadata": {
        "id": "FE_jFgnZpCCd",
        "colab": {
          "base_uri": "https://localhost:8080/",
          "height": 409
        },
        "outputId": "ee5883b5-b166-4354-904c-af70b07cc6e7"
      },
      "execution_count": 101,
      "outputs": [
        {
          "output_type": "display_data",
          "data": {
            "text/plain": [
              "<Figure size 864x432 with 1 Axes>"
            ],
            "image/png": "[encoded data removed]"
          },
          "metadata": {
            "needs_background": "light"
          }
        }
      ]
    },
    {
      "cell_type": "markdown",
      "source": [
        "\n",
        "This shows that more cancellations are made in City Hotel. Also, the cancellation percentage is more than 50%. "
      ],
      "metadata": {
        "id": "C_j1G7yiqdRP"
      }
    },
    {
      "cell_type": "markdown",
      "source": [
        "7.Monthly arrival of guest"
      ],
      "metadata": {
        "id": "3cspy4FjqxJW"
      }
    },
    {
      "cell_type": "code",
      "source": [
        "#monthly arrival shown by countplot\n",
        "plt.figure(figsize=(15, 8))\n",
        "sns.countplot(x='arrival_date_month',hue='hotel', data=h_df)\n",
        "plt.title(\"monthly arrival\",fontweight=\"bold\", size=20)\n",
        "plt.show() "
      ],
      "metadata": {
        "id": "R4YgtaqtYklH",
        "colab": {
          "base_uri": "https://localhost:8080/",
          "height": 519
        },
        "outputId": "680af6c9-4321-408a-8af5-4198ebe84a42"
      },
      "execution_count": 102,
      "outputs": [
        {
          "output_type": "display_data",
          "data": {
            "text/plain": [
              "<Figure size 1080x576 with 1 Axes>"
            ],
            "image/png": "[encoded data removed]"
          },
          "metadata": {
            "needs_background": "light"
          }
        }
      ]
    },
    {
      "cell_type": "markdown",
      "source": [
        "As we can see the month august has high arrival of the guest"
      ],
      "metadata": {
        "id": "djqSdOad7NXr"
      }
    },
    {
      "cell_type": "markdown",
      "source": [
        " # Revenue of hotels by month"
      ],
      "metadata": {
        "id": "K9_lbrAtBRKo"
      }
    },
    {
      "cell_type": "markdown",
      "source": [
        "8. Revenue of city hotel by month"
      ],
      "metadata": {
        "id": "wCzgOiSrapX-"
      }
    },
    {
      "cell_type": "code",
      "source": [
        "#splitting two hotels seperatly\n",
        "city = h_df[h_df['hotel'] == \"City Hotel\"]\n",
        "resort = h_df[h_df['hotel'] == \"Resort Hotel\"]\n",
        "\n",
        "# grouping revenue by month for city hotel\n",
        "revnu_by_month_city=city.groupby(\"arrival_date_month\")[\"revenue\"].sum().reset_index().rename(columns = {'arrival_date_month': 'month','revenue':'revenue_by_month_city'})\n",
        "\n",
        "#plotting by line plot to know trend of data\n",
        "plt.figure(figsize=(15, 8))\n",
        "sns.lineplot(data = revnu_by_month_city, x = revnu_by_month_city[\"month\"], y = revnu_by_month_city['revenue_by_month_city'])\n",
        "plt.show()\n",
        "\n"
      ],
      "metadata": {
        "id": "-oiKAEqvBRdH",
        "colab": {
          "base_uri": "https://localhost:8080/",
          "height": 508
        },
        "outputId": "a2af4e0a-d67a-4a1e-ddcd-53ee26c04534"
      },
      "execution_count": 103,
      "outputs": [
        {
          "output_type": "display_data",
          "data": {
            "text/plain": [
              "<Figure size 1080x576 with 1 Axes>"
            ],
            "image/png": "[encoded data removed]"
          },
          "metadata": {
            "needs_background": "light"
          }
        }
      ]
    },
    {
      "cell_type": "markdown",
      "source": [
        "\n",
        "\n",
        "The prices in the Resort hotel are much higher during the month of August. There is summer season there in portugal at that time. "
      ],
      "metadata": {
        "id": "KvaUJj_xcDWm"
      }
    },
    {
      "cell_type": "markdown",
      "source": [
        "9.Revenue of resort hotel by month"
      ],
      "metadata": {
        "id": "t6dVpIINYklI"
      }
    },
    {
      "cell_type": "code",
      "source": [
        "resort = h_df[h_df['hotel'] == \"Resort Hotel\"]\n",
        "\n",
        "# grouping revenue by month for city hotel\n",
        "revnu_by_month_resort=resort.groupby(\"arrival_date_month\")[\"revenue\"].sum().reset_index().rename(columns = {'arrival_date_month': 'month','revenue':'revenue_by_month_resort'})\n",
        "plt.figure(figsize=(12,5))\n",
        "sns.lineplot(data = revnu_by_month_resort, x = revnu_by_month_resort[\"month\"], y = revnu_by_month_resort['revenue_by_month_resort'])\n",
        "plt.show()\n"
      ],
      "metadata": {
        "id": "g2GT2xHqa3D8",
        "colab": {
          "base_uri": "https://localhost:8080/",
          "height": 345
        },
        "outputId": "a589196e-5220-4bfc-b456-9b4e84b3af90"
      },
      "execution_count": 104,
      "outputs": [
        {
          "output_type": "display_data",
          "data": {
            "text/plain": [
              "<Figure size 864x360 with 1 Axes>"
            ],
            "image/png": "[encoded data removed]"
          },
          "metadata": {
            "needs_background": "light"
          }
        }
      ]
    },
    {
      "cell_type": "markdown",
      "source": [
        "In resort hotel also the month of august has high revenue"
      ],
      "metadata": {
        "id": "DRJkQaeLBPRQ"
      }
    },
    {
      "cell_type": "markdown",
      "source": [
        "10.Yearly arrival of both the resort"
      ],
      "metadata": {
        "id": "MvTd3-CWcuxZ"
      }
    },
    {
      "cell_type": "code",
      "source": [
        "plt.figure(figsize=(8, 8))\n",
        "sns.countplot(data = h_df, x = 'arrival_date_year',hue='hotel')\n",
        "plt.title('Arrivals in year',fontweight=\"bold\", size=20)\n",
        "plt.show() "
      ],
      "metadata": {
        "id": "B3PRQNj1evj9",
        "colab": {
          "base_uri": "https://localhost:8080/",
          "height": 519
        },
        "outputId": "cef9193f-f85e-4dac-eee7-3cb2dc841818"
      },
      "execution_count": 105,
      "outputs": [
        {
          "output_type": "display_data",
          "data": {
            "text/plain": [
              "<Figure size 576x576 with 1 Axes>"
            ],
            "image/png": "[encoded data removed]"
          },
          "metadata": {
            "needs_background": "light"
          }
        }
      ]
    },
    {
      "cell_type": "markdown",
      "source": [
        "2016 has the highest arrival in both the hotel"
      ],
      "metadata": {
        "id": "5aaW0BYyYklI"
      }
    },
    {
      "cell_type": "markdown",
      "source": [
        "11. Which country is highest among all?"
      ],
      "metadata": {
        "id": "bxYILpSnrjb9"
      }
    },
    {
      "cell_type": "code",
      "source": [
        "h_df['country'].value_counts().head(10)\n",
        "\n",
        "#making data frame of top 10 countries\n",
        "top_countries= h_df[h_df['country'].isin([\"PRT\",\"GBR\",\"FRA\",\"ESP\",\"DEU\",\"ITA\",\"IRL\",\n",
        "                         \"BEL\",\"BRA\",\"NLD\"])]\n",
        "plt.figure(figsize=(12,4))\n",
        "sns.countplot(x='country', hue = 'hotel', data= top_countries)\n",
        "plt.title('People from countries')\n",
        "plt.show()\n"
      ],
      "metadata": {
        "id": "VCfIoaoKKsBm",
        "colab": {
          "base_uri": "https://localhost:8080/",
          "height": 295
        },
        "outputId": "bf9839ef-f0e8-4600-a627-803b61c76ff0"
      },
      "execution_count": 106,
      "outputs": [
        {
          "output_type": "display_data",
          "data": {
            "text/plain": [
              "<Figure size 864x288 with 1 Axes>"
            ],
            "image/png": "[encoded data removed]"
          },
          "metadata": {
            "needs_background": "light"
          }
        }
      ]
    },
    {
      "cell_type": "markdown",
      "source": [
        "High number of bookings are from Portugal, probably because the hotel is located in Portugal itself."
      ],
      "metadata": {
        "id": "8gsMeqfy7Y5O"
      }
    },
    {
      "cell_type": "markdown",
      "source": [
        "12.The most preferred meal type"
      ],
      "metadata": {
        "id": "w7xIqAg8dniw"
      }
    },
    {
      "cell_type": "markdown",
      "source": [
        "Considering the whole data here (including cancellations) since this analysis is to understand the guest preference."
      ],
      "metadata": {
        "id": "pozEl76odnlz"
      }
    },
    {
      "cell_type": "code",
      "source": [
        "# value counts for meal\n",
        "h_df.meal.value_counts(normalize=True)"
      ],
      "metadata": {
        "id": "jghlJ6PfHh5q",
        "colab": {
          "base_uri": "https://localhost:8080/"
        },
        "outputId": "6273717d-b147-42bd-e226-206c400ace37"
      },
      "execution_count": 107,
      "outputs": [
        {
          "output_type": "execute_result",
          "data": {
            "text/plain": [
              "BB           0.777797\n",
              "SC           0.108509\n",
              "HB           0.103966\n",
              "Undefined    0.005608\n",
              "FB           0.004120\n",
              "Name: meal, dtype: float64"
            ]
          },
          "metadata": {},
          "execution_count": 107
        }
      ]
    },
    {
      "cell_type": "code",
      "source": [
        "plt.figure(figsize=(8,6))\n",
        "sns.countplot(data = h_df, x = 'meal').set_title('Meal', fontsize = 20)\n",
        "plt.show()"
      ],
      "metadata": {
        "id": "8tuC7S35eEQq",
        "colab": {
          "base_uri": "https://localhost:8080/",
          "height": 409
        },
        "outputId": "95fee262-7074-4028-ac27-9682200f1f72"
      },
      "execution_count": 108,
      "outputs": [
        {
          "output_type": "display_data",
          "data": {
            "text/plain": [
              "<Figure size 576x432 with 1 Axes>"
            ],
            "image/png": "[encoded data removed]"
          },
          "metadata": {
            "needs_background": "light"
          }
        }
      ]
    },
    {
      "cell_type": "markdown",
      "source": [
        "“Bed & Breakfast” is the most preferred meal type."
      ],
      "metadata": {
        "id": "i1MNhjUgfWC0"
      }
    },
    {
      "cell_type": "markdown",
      "source": [
        "13. To find the most preferred Room type"
      ],
      "metadata": {
        "id": "m-F0Na0Rfo5r"
      }
    },
    {
      "cell_type": "code",
      "source": [
        "#plotting room type\n",
        "plt.figure(figsize=(8,6))\n",
        "sns.countplot(data = h_df, x = 'reserved_room_type').set_title('Prefered Room Type', fontsize = 20)\n",
        "plt.show()"
      ],
      "metadata": {
        "id": "dOVammcqfn8p",
        "colab": {
          "base_uri": "https://localhost:8080/",
          "height": 410
        },
        "outputId": "916d7b44-ebf6-4066-f7b1-dc0bd90e3c83"
      },
      "execution_count": 109,
      "outputs": [
        {
          "output_type": "display_data",
          "data": {
            "text/plain": [
              "<Figure size 576x432 with 1 Axes>"
            ],
            "image/png": "[encoded data removed]"
          },
          "metadata": {
            "needs_background": "light"
          }
        }
      ]
    },
    {
      "cell_type": "markdown",
      "source": [
        "Most preferred room type is “A”."
      ],
      "metadata": {
        "id": "8eObeiszgQ2C"
      }
    },
    {
      "cell_type": "markdown",
      "source": [
        "Correlation between cleaned data?"
      ],
      "metadata": {
        "id": "sEF1rj95ryEi"
      }
    },
    {
      "cell_type": "markdown",
      "source": [
        "Multivariate Graphical \n",
        "\n",
        "This EDA technique makes use of graphics to show relationships between 2 or more datasets like Reservation counts vs Number of special requests"
      ],
      "metadata": {
        "id": "tp7-3h-J3n8I"
      }
    },
    {
      "cell_type": "code",
      "source": [
        "#Lets see the correlation\n",
        "plt.figure(figsize=(12,8))\n",
        "sns.heatmap(h_df.corr(),annot=True,cmap='hot')"
      ],
      "metadata": {
        "id": "iYZsvCYseVVZ",
        "colab": {
          "base_uri": "https://localhost:8080/",
          "height": 659
        },
        "outputId": "b5067a78-fe5b-401f-9849-55123a4ff038"
      },
      "execution_count": 110,
      "outputs": [
        {
          "output_type": "execute_result",
          "data": {
            "text/plain": [
              "<matplotlib.axes._subplots.AxesSubplot at 0x7fade2f95d30>"
            ]
          },
          "metadata": {},
          "execution_count": 110
        },
        {
          "output_type": "display_data",
          "data": {
            "text/plain": [
              "<Figure size 864x576 with 2 Axes>"
            ],
            "image/png": "[encoded data removed]"
          },
          "metadata": {
            "needs_background": "light"
          }
        }
      ]
    },
    {
      "cell_type": "markdown",
      "source": [
        "created heat map for all the cleaned data\n",
        "\n",
        "\n",
        "Here, we can see night stay and week night stay has tha highest relation among all \n",
        "\n",
        "\n",
        "\n",
        "revenue mostly depends upon the night stays it seems"
      ],
      "metadata": {
        "id": "7knmR_4ddnpO"
      }
    },
    {
      "cell_type": "markdown",
      "source": [
        "14. Repeated guest in each hotel"
      ],
      "metadata": {
        "id": "JcMwzZxoAimU"
      }
    },
    {
      "cell_type": "code",
      "source": [
        "h_df[\"is_repeated_guest\"].value_counts(normalize=True)"
      ],
      "metadata": {
        "colab": {
          "base_uri": "https://localhost:8080/"
        },
        "id": "YruWHLRcKWaX",
        "outputId": "6815c991-1eaf-4eeb-dfbc-9d0d22dff423"
      },
      "execution_count": 111,
      "outputs": [
        {
          "output_type": "execute_result",
          "data": {
            "text/plain": [
              "0    0.960927\n",
              "1    0.039073\n",
              "Name: is_repeated_guest, dtype: float64"
            ]
          },
          "metadata": {},
          "execution_count": 111
        }
      ]
    },
    {
      "cell_type": "markdown",
      "source": [
        "Repeated guests are too low"
      ],
      "metadata": {
        "id": "vPFWLjtGHvlz"
      }
    },
    {
      "cell_type": "code",
      "source": [
        "# repeated customers bookings\n",
        "# 0 indicates NO and 1 indicates YES\n",
        "plt.figure(figsize=(8,6))\n",
        "sns.countplot(data = h_df, x = 'is_repeated_guest', hue=\"is_canceled\").set_title(' repeated guest', fontsize = 20)\n",
        "plt.show()\n"
      ],
      "metadata": {
        "id": "uom2NVX_trf_",
        "colab": {
          "base_uri": "https://localhost:8080/",
          "height": 410
        },
        "outputId": "1a7f1cca-8cb2-4aad-95dd-3690de7a7bfe"
      },
      "execution_count": 112,
      "outputs": [
        {
          "output_type": "display_data",
          "data": {
            "text/plain": [
              "<Figure size 576x432 with 1 Axes>"
            ],
            "image/png": "[encoded data removed]"
          },
          "metadata": {
            "needs_background": "light"
          }
        }
      ]
    },
    {
      "cell_type": "markdown",
      "source": [
        "Both the hotels have less cancellation by repeated guest"
      ],
      "metadata": {
        "id": "6k0zSDQNvNtu"
      }
    },
    {
      "cell_type": "markdown",
      "source": [
        "15.Which type of customer is high?"
      ],
      "metadata": {
        "id": "hOPMTGD6sAuW"
      }
    },
    {
      "cell_type": "markdown",
      "source": [
        "Contract — when the booking has an allotment or other type of contract associated to it\n",
        "\n",
        "\n",
        "Group — when the booking is associated to a group\n",
        "\n",
        "\n",
        "Transient —lasting only for a short tim\n",
        "\n",
        "Transient-party — when the booking is transient, but is associated to at least other transient booking"
      ],
      "metadata": {
        "id": "LkDIQtKxrTzV"
      }
    },
    {
      "cell_type": "code",
      "source": [
        "#taking value count for customer type\n",
        "h_df[\"customer_type\"].value_counts(normalize=True)\n"
      ],
      "metadata": {
        "id": "2WzvitqHAWmk",
        "colab": {
          "base_uri": "https://localhost:8080/"
        },
        "outputId": "7ba4ddf8-0258-49d3-afdb-10dc19a46feb"
      },
      "execution_count": 113,
      "outputs": [
        {
          "output_type": "execute_result",
          "data": {
            "text/plain": [
              "Transient          0.823702\n",
              "Transient-Party    0.134146\n",
              "Contract           0.035926\n",
              "Group              0.006226\n",
              "Name: customer_type, dtype: float64"
            ]
          },
          "metadata": {},
          "execution_count": 113
        }
      ]
    },
    {
      "cell_type": "markdown",
      "source": [
        "around 82% are being transient customer"
      ],
      "metadata": {
        "id": "OGQzPJHLH9Gc"
      }
    },
    {
      "cell_type": "code",
      "source": [
        "plt.figure(figsize=(14,7))\n",
        "sns.countplot(x=h_df['customer_type'], palette='husl')\n",
        "plt.show()"
      ],
      "metadata": {
        "colab": {
          "base_uri": "https://localhost:8080/",
          "height": 443
        },
        "id": "Rr7J-r6a51-l",
        "outputId": "5893bada-8429-4235-bdbb-b5ac3747aca7"
      },
      "execution_count": 114,
      "outputs": [
        {
          "output_type": "display_data",
          "data": {
            "text/plain": [
              "<Figure size 1008x504 with 1 Axes>"
            ],
            "image/png": "[encoded data removed]"
          },
          "metadata": {
            "needs_background": "light"
          }
        }
      ]
    },
    {
      "cell_type": "markdown",
      "source": [
        "Transient customer are more in both the hotel"
      ],
      "metadata": {
        "id": "8G2x9gOozGDZ"
      }
    },
    {
      "cell_type": "markdown",
      "source": [
        "In categories, the term “TA” means “Travel Agents” and “TO” means “Tour Operators”"
      ],
      "metadata": {
        "id": "qbcdKBCm5Sp5"
      }
    },
    {
      "cell_type": "code",
      "source": [
        "#taking value count for market_segment\n",
        "h_df.market_segment.value_counts(normalize=True)"
      ],
      "metadata": {
        "colab": {
          "base_uri": "https://localhost:8080/"
        },
        "id": "ejrJSiL9G4ip",
        "outputId": "9d44721f-4083-4b9c-d044-04c792286e2f"
      },
      "execution_count": 115,
      "outputs": [
        {
          "output_type": "execute_result",
          "data": {
            "text/plain": [
              "Online TA        0.590741\n",
              "Offline TA/TO    0.158913\n",
              "Direct           0.135027\n",
              "Groups           0.056526\n",
              "Corporate        0.048137\n",
              "Complementary    0.008034\n",
              "Aviation         0.002598\n",
              "Undefined        0.000023\n",
              "Name: market_segment, dtype: float64"
            ]
          },
          "metadata": {},
          "execution_count": 115
        }
      ]
    },
    {
      "cell_type": "code",
      "source": [
        "plt.figure(figsize=(14,7))\n",
        "sns.countplot(x =h_df['market_segment'], palette='husl')\n",
        "plt.show()"
      ],
      "metadata": {
        "colab": {
          "base_uri": "https://localhost:8080/",
          "height": 443
        },
        "id": "0tIu9tWD5TwC",
        "outputId": "6d2a51b1-9746-4d5a-a9b0-06fe49b52989"
      },
      "execution_count": 116,
      "outputs": [
        {
          "output_type": "display_data",
          "data": {
            "text/plain": [
              "<Figure size 1008x504 with 1 Axes>"
            ],
            "image/png": "[encoded data removed]"
          },
          "metadata": {
            "needs_background": "light"
          }
        }
      ]
    },
    {
      "cell_type": "markdown",
      "source": [
        "Online Travel agent are being majority so better focus on this.\n"
      ],
      "metadata": {
        "id": "-1KQTAm_97UH"
      }
    },
    {
      "cell_type": "markdown",
      "source": [
        "17.Deposits of hotels"
      ],
      "metadata": {
        "id": "E3EjuRk86D3K"
      }
    },
    {
      "cell_type": "markdown",
      "source": [
        "No Deposit — no deposit was made\n",
        "\n",
        "\n",
        "Non Refund — a deposit was made in the value of the total stay cost\n",
        "\n",
        "\n",
        "Refundable — a deposit was made with a value under the total cost of stay."
      ],
      "metadata": {
        "id": "VwAp9jqO6EGl"
      }
    },
    {
      "cell_type": "code",
      "source": [
        "#taking value count for deposit_type\n",
        "h_df.deposit_type.value_counts(normalize=True)"
      ],
      "metadata": {
        "colab": {
          "base_uri": "https://localhost:8080/"
        },
        "id": "3eh2EdhyG8qp",
        "outputId": "4c052b34-4d2c-4af6-9c30-eba016d04266"
      },
      "execution_count": 117,
      "outputs": [
        {
          "output_type": "execute_result",
          "data": {
            "text/plain": [
              "No Deposit    0.986907\n",
              "Non Refund    0.011868\n",
              "Refundable    0.001225\n",
              "Name: deposit_type, dtype: float64"
            ]
          },
          "metadata": {},
          "execution_count": 117
        }
      ]
    },
    {
      "cell_type": "code",
      "source": [
        "plt.figure(figsize=(6,6))\n",
        "sns.countplot(x = h_df['deposit_type'],hue=h_df['hotel'], palette='husl')\n",
        "plt.show()"
      ],
      "metadata": {
        "id": "qWnlC45MuEad",
        "colab": {
          "base_uri": "https://localhost:8080/",
          "height": 389
        },
        "outputId": "ee756f3f-328c-41d5-e776-5edf0ecd817a"
      },
      "execution_count": 118,
      "outputs": [
        {
          "output_type": "display_data",
          "data": {
            "text/plain": [
              "<Figure size 432x432 with 1 Axes>"
            ],
            "image/png": "[encoded data removed]"
          },
          "metadata": {
            "needs_background": "light"
          }
        }
      ]
    },
    {
      "cell_type": "markdown",
      "source": [
        "There was no deposit for City hotel where as Resorts had some deposits. No deposit may lead to cancel the bookings"
      ],
      "metadata": {
        "id": "XJTWKEAgBm34"
      }
    },
    {
      "cell_type": "markdown",
      "source": [
        "# observations"
      ],
      "metadata": {
        "id": "CWVoUC_t7OJf"
      }
    },
    {
      "cell_type": "markdown",
      "source": [
        "More guests are coming from western europe countries.High number of bookings are from Portugal, probably because the hotel is located in Portugal itself\n",
        "\n",
        "\n",
        " The second country is the United Kingdom which is approx. 75% behind.\n",
        "\n",
        "\n",
        "The number of repeated guests are too low.\n",
        "\n",
        "\n",
        "prices are: — Resort hotel: 47.56 € per night and person. — City hotel: 59.29 € per night and person.\n",
        "\n",
        "\n",
        "Resort hotel are much higher price during the month of August. There is summer season there in portugal at that time. \n",
        "\n",
        "\n",
        "Repeated guests do not cancel their reservations. \n",
        "\n",
        "\n",
        "The most preferred meal type has been Bed & Breakfast. The consumer can be prepared to have more resources for meal time.\n",
        "\n",
        "\n",
        "The cancellation percentage has been more than 50%."
      ],
      "metadata": {
        "id": "w0cPVj8e7Ffh"
      }
    },
    {
      "cell_type": "markdown",
      "source": [
        "# References\n",
        "Pandas user guide: https://pandas.pydata.org/docs/user_guide/index.html\n",
        "\n",
        "\n",
        "Matplotlib user guide: https://matplotlib.org/3.3.1/users/index.html\n",
        "\n",
        "\n",
        "Seaborn user guide & tutorial: https://seaborn.pydata.org/tutorial.html\n"
      ],
      "metadata": {
        "id": "RCzqHxkK7JLY"
      }
    }
  ]
}